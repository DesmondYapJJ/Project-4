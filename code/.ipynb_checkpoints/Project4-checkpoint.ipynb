{
 "cells": [
  {
   "cell_type": "markdown",
   "id": "30bf2fa7-5aa4-49dd-938b-a7726a3211ac",
   "metadata": {},
   "source": [
    "<img src=\"http://imgur.com/1ZcRyrc.png\" style=\"float: left; margin: 20px; height: 55px\">\n",
    "\n",
    "# Project 4: West Nile Virus Prediction"
   ]
  },
  {
   "cell_type": "markdown",
   "id": "42a7bd11-8c02-4137-84e6-ebb22a4a0b4b",
   "metadata": {},
   "source": [
    "# Part 1 of 4"
   ]
  },
  {
   "cell_type": "markdown",
   "id": "1df52d1b-53ce-4e66-918d-9a603d6cd576",
   "metadata": {},
   "source": [
    "# Executive Summary \n",
    "Insert text"
   ]
  },
  {
   "cell_type": "markdown",
   "id": "024289ca-a281-4c5b-9bc3-fd7dce626455",
   "metadata": {},
   "source": [
    "## Problem Statement\n",
    "Insert text"
   ]
  },
  {
   "cell_type": "markdown",
   "id": "8cc39463-fc4c-42bf-aac9-95e68b04e539",
   "metadata": {},
   "source": [
    "## Contents: \n",
    "\n",
    "Part 1: Data Cleaning\n",
    "\n",
    "-[Example](#Example)\n",
    "\n",
    "Part 2: EDA \n",
    "\n",
    "Part 3: Modelling and Model Evaluation\n",
    "\n",
    "Part 4: Recommendation and Conclusion"
   ]
  },
  {
   "cell_type": "markdown",
   "id": "079dfa44-3c4f-41db-a4e5-2c5b6611264e",
   "metadata": {},
   "source": [
    "## Data Sets\n",
    "\n",
    "* [`spray.csv`](./data/spray.csv): Description\n",
    "* [`test.csv`](./data/test.csv): \n",
    "* [`train.csv`](./data/train.csv): \n",
    "* [`weather.csv`](./data/weather.csv): "
   ]
  },
  {
   "cell_type": "markdown",
   "id": "f3626ad6-5cf3-4012-ad66-8246cbe23467",
   "metadata": {},
   "source": [
    "# Data Cleaning"
   ]
  },
  {
   "cell_type": "code",
   "execution_count": null,
   "id": "f619fa79-6ccb-479e-82fa-5cbba2b3780c",
   "metadata": {},
   "outputs": [],
   "source": []
  },
  {
   "cell_type": "code",
   "execution_count": null,
   "id": "fca14835-8058-40e5-bcae-49ba5b8468e1",
   "metadata": {},
   "outputs": [],
   "source": []
  },
  {
   "cell_type": "code",
   "execution_count": null,
   "id": "26c86384-ccdf-4ba9-bad2-ef55c3bd2905",
   "metadata": {},
   "outputs": [],
   "source": [
    "print(weather.shape)\n",
    "weather.head()"
   ]
  },
  {
   "cell_type": "code",
   "execution_count": null,
   "id": "cfca682c-4e0a-4b7e-963b-091046e9f01c",
   "metadata": {},
   "outputs": [],
   "source": [
    "# According to the document, M = Missing Data, and - = values not available for sunrise/sunset\n",
    "weather=weather.replace('-', np.nan)\n",
    "weather=weather.replace('M', np.nan)"
   ]
  },
  {
   "cell_type": "code",
   "execution_count": null,
   "id": "f0f12dfa-9330-4dab-a527-f0a7dc18f1a2",
   "metadata": {},
   "outputs": [],
   "source": [
    "weather.info()"
   ]
  },
  {
   "cell_type": "markdown",
   "id": "6a16f396-ab3e-4f18-a359-a45c23415437",
   "metadata": {},
   "source": [
    "# EDA"
   ]
  },
  {
   "cell_type": "markdown",
   "id": "d9c346d9-1c9a-4384-abae-9fa8b2b09346",
   "metadata": {},
   "source": [
    "# Modelling and Model Evaluation"
   ]
  },
  {
   "cell_type": "markdown",
   "id": "023b362b-65e0-405c-8e52-5302fbcb8599",
   "metadata": {},
   "source": [
    "# Recommendation and Conclusion"
   ]
  },
  {
   "cell_type": "code",
   "execution_count": null,
   "id": "cd07734b-faf8-4c64-8b4a-3927bec8af71",
   "metadata": {},
   "outputs": [],
   "source": []
  }
 ],
 "metadata": {
  "kernelspec": {
   "display_name": "Python 3 (ipykernel)",
   "language": "python",
   "name": "python3"
  },
  "language_info": {
   "codemirror_mode": {
    "name": "ipython",
    "version": 3
   },
   "file_extension": ".py",
   "mimetype": "text/x-python",
   "name": "python",
   "nbconvert_exporter": "python",
   "pygments_lexer": "ipython3",
   "version": "3.8.13"
  }
 },
 "nbformat": 4,
 "nbformat_minor": 5
}
