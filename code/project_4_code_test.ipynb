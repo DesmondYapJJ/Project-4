{
 "cells": [
  {
   "cell_type": "markdown",
   "id": "3389dc9e-afc5-4eb2-acbe-ed3c89b05dd3",
   "metadata": {},
   "source": [
    "<img src=\"http://imgur.com/1ZcRyrc.png\" style=\"float: left; margin: 20px; height: 55px\">\n",
    "\n",
    "# Project 4: West Nile Virus Prediction"
   ]
  },
  {
   "cell_type": "markdown",
   "id": "7bd0fd29-7d36-4353-8331-0b69efdbef18",
   "metadata": {},
   "source": [
    "# Part 1 of 4"
   ]
  },
  {
   "cell_type": "markdown",
   "id": "bdd2ebfa-1982-47d7-a7fb-fbb5b3ae9a86",
   "metadata": {},
   "source": [
    "# Executive Summary \n",
    "Insert text"
   ]
  },
  {
   "cell_type": "markdown",
   "id": "136ca21c-2efb-4e4b-b92c-0b73d930b115",
   "metadata": {},
   "source": [
    "## Problem Statement\n",
    "Insert text"
   ]
  },
  {
   "cell_type": "markdown",
   "id": "26ef5646-fd4b-490e-936b-0e9cd704baf3",
   "metadata": {},
   "source": [
    "## Contents: \n",
    "\n",
    "Part 1: Data Cleaning\n",
    "\n",
    "-[Example](#Example)\n",
    "\n",
    "Part 2: EDA \n",
    "\n",
    "Part 3: Modelling and Model Evaluation\n",
    "\n",
    "Part 4: Recommendation and Conclusion"
   ]
  },
  {
   "cell_type": "markdown",
   "id": "0ca07ef4-70c6-4d64-a945-77fd8b4ac808",
   "metadata": {},
   "source": [
    "## Data Sets\n",
    "\n",
    "* [`spray.csv`](./data/spray.csv): Description\n",
    "* [`test.csv`](./data/test.csv): \n",
    "* [`train.csv`](./data/train.csv): \n",
    "* [`weather.csv`](./data/weather.csv): "
   ]
  },
  {
   "cell_type": "markdown",
   "id": "88f71866-6586-422f-bb95-56fbf28305aa",
   "metadata": {},
   "source": [
    "# Data Cleaning"
   ]
  },
  {
   "cell_type": "code",
   "execution_count": 2,
   "id": "cd8ad77b-979c-4acf-bd5e-36713d9e8e28",
   "metadata": {},
   "outputs": [],
   "source": [
    "import pandas as pd\n",
    "import numpy as np\n",
    "import seaborn as sns\n",
    "import matplotlib.pyplot as plt"
   ]
  },
  {
   "cell_type": "code",
   "execution_count": 3,
   "id": "849a4f69-1757-48fb-97c9-d9b4e55d56e9",
   "metadata": {},
   "outputs": [],
   "source": [
    "#data importing\n",
    "train = pd.read_csv('../datasets/train.csv')\n",
    "test = pd.read_csv('../datasets/test.csv')\n",
    "spray = pd.read_csv('../datasets/spray.csv')\n",
    "weather = pd.read_csv('../datasets/weather.csv')"
   ]
  },
  {
   "cell_type": "code",
   "execution_count": 4,
   "id": "efb80c64-c9cc-4c7f-be76-a372dc79960b",
   "metadata": {},
   "outputs": [],
   "source": [
    "#configure jupyter lab to prevent truncation for easier reference for columns\n",
    "pd.set_option('display.max_columns', None)"
   ]
  },
  {
   "cell_type": "code",
   "execution_count": 5,
   "id": "ae53b42a-f815-4471-b88e-552d0fdb26b9",
   "metadata": {},
   "outputs": [
    {
     "data": {
      "text/html": [
       "<div>\n",
       "<style scoped>\n",
       "    .dataframe tbody tr th:only-of-type {\n",
       "        vertical-align: middle;\n",
       "    }\n",
       "\n",
       "    .dataframe tbody tr th {\n",
       "        vertical-align: top;\n",
       "    }\n",
       "\n",
       "    .dataframe thead th {\n",
       "        text-align: right;\n",
       "    }\n",
       "</style>\n",
       "<table border=\"1\" class=\"dataframe\">\n",
       "  <thead>\n",
       "    <tr style=\"text-align: right;\">\n",
       "      <th></th>\n",
       "      <th>Date</th>\n",
       "      <th>Address</th>\n",
       "      <th>Species</th>\n",
       "      <th>Block</th>\n",
       "      <th>Street</th>\n",
       "      <th>Trap</th>\n",
       "      <th>AddressNumberAndStreet</th>\n",
       "      <th>Latitude</th>\n",
       "      <th>Longitude</th>\n",
       "      <th>AddressAccuracy</th>\n",
       "      <th>NumMosquitos</th>\n",
       "      <th>WnvPresent</th>\n",
       "    </tr>\n",
       "  </thead>\n",
       "  <tbody>\n",
       "    <tr>\n",
       "      <th>0</th>\n",
       "      <td>2007-05-29</td>\n",
       "      <td>4100 North Oak Park Avenue, Chicago, IL 60634,...</td>\n",
       "      <td>CULEX PIPIENS/RESTUANS</td>\n",
       "      <td>41</td>\n",
       "      <td>N OAK PARK AVE</td>\n",
       "      <td>T002</td>\n",
       "      <td>4100  N OAK PARK AVE, Chicago, IL</td>\n",
       "      <td>41.954690</td>\n",
       "      <td>-87.800991</td>\n",
       "      <td>9</td>\n",
       "      <td>1</td>\n",
       "      <td>0</td>\n",
       "    </tr>\n",
       "    <tr>\n",
       "      <th>1</th>\n",
       "      <td>2007-05-29</td>\n",
       "      <td>4100 North Oak Park Avenue, Chicago, IL 60634,...</td>\n",
       "      <td>CULEX RESTUANS</td>\n",
       "      <td>41</td>\n",
       "      <td>N OAK PARK AVE</td>\n",
       "      <td>T002</td>\n",
       "      <td>4100  N OAK PARK AVE, Chicago, IL</td>\n",
       "      <td>41.954690</td>\n",
       "      <td>-87.800991</td>\n",
       "      <td>9</td>\n",
       "      <td>1</td>\n",
       "      <td>0</td>\n",
       "    </tr>\n",
       "    <tr>\n",
       "      <th>2</th>\n",
       "      <td>2007-05-29</td>\n",
       "      <td>6200 North Mandell Avenue, Chicago, IL 60646, USA</td>\n",
       "      <td>CULEX RESTUANS</td>\n",
       "      <td>62</td>\n",
       "      <td>N MANDELL AVE</td>\n",
       "      <td>T007</td>\n",
       "      <td>6200  N MANDELL AVE, Chicago, IL</td>\n",
       "      <td>41.994991</td>\n",
       "      <td>-87.769279</td>\n",
       "      <td>9</td>\n",
       "      <td>1</td>\n",
       "      <td>0</td>\n",
       "    </tr>\n",
       "    <tr>\n",
       "      <th>3</th>\n",
       "      <td>2007-05-29</td>\n",
       "      <td>7900 West Foster Avenue, Chicago, IL 60656, USA</td>\n",
       "      <td>CULEX PIPIENS/RESTUANS</td>\n",
       "      <td>79</td>\n",
       "      <td>W FOSTER AVE</td>\n",
       "      <td>T015</td>\n",
       "      <td>7900  W FOSTER AVE, Chicago, IL</td>\n",
       "      <td>41.974089</td>\n",
       "      <td>-87.824812</td>\n",
       "      <td>8</td>\n",
       "      <td>1</td>\n",
       "      <td>0</td>\n",
       "    </tr>\n",
       "    <tr>\n",
       "      <th>4</th>\n",
       "      <td>2007-05-29</td>\n",
       "      <td>7900 West Foster Avenue, Chicago, IL 60656, USA</td>\n",
       "      <td>CULEX RESTUANS</td>\n",
       "      <td>79</td>\n",
       "      <td>W FOSTER AVE</td>\n",
       "      <td>T015</td>\n",
       "      <td>7900  W FOSTER AVE, Chicago, IL</td>\n",
       "      <td>41.974089</td>\n",
       "      <td>-87.824812</td>\n",
       "      <td>8</td>\n",
       "      <td>4</td>\n",
       "      <td>0</td>\n",
       "    </tr>\n",
       "  </tbody>\n",
       "</table>\n",
       "</div>"
      ],
      "text/plain": [
       "         Date                                            Address  \\\n",
       "0  2007-05-29  4100 North Oak Park Avenue, Chicago, IL 60634,...   \n",
       "1  2007-05-29  4100 North Oak Park Avenue, Chicago, IL 60634,...   \n",
       "2  2007-05-29  6200 North Mandell Avenue, Chicago, IL 60646, USA   \n",
       "3  2007-05-29    7900 West Foster Avenue, Chicago, IL 60656, USA   \n",
       "4  2007-05-29    7900 West Foster Avenue, Chicago, IL 60656, USA   \n",
       "\n",
       "                  Species  Block           Street  Trap  \\\n",
       "0  CULEX PIPIENS/RESTUANS     41   N OAK PARK AVE  T002   \n",
       "1          CULEX RESTUANS     41   N OAK PARK AVE  T002   \n",
       "2          CULEX RESTUANS     62    N MANDELL AVE  T007   \n",
       "3  CULEX PIPIENS/RESTUANS     79     W FOSTER AVE  T015   \n",
       "4          CULEX RESTUANS     79     W FOSTER AVE  T015   \n",
       "\n",
       "              AddressNumberAndStreet   Latitude  Longitude  AddressAccuracy  \\\n",
       "0  4100  N OAK PARK AVE, Chicago, IL  41.954690 -87.800991                9   \n",
       "1  4100  N OAK PARK AVE, Chicago, IL  41.954690 -87.800991                9   \n",
       "2   6200  N MANDELL AVE, Chicago, IL  41.994991 -87.769279                9   \n",
       "3    7900  W FOSTER AVE, Chicago, IL  41.974089 -87.824812                8   \n",
       "4    7900  W FOSTER AVE, Chicago, IL  41.974089 -87.824812                8   \n",
       "\n",
       "   NumMosquitos  WnvPresent  \n",
       "0             1           0  \n",
       "1             1           0  \n",
       "2             1           0  \n",
       "3             1           0  \n",
       "4             4           0  "
      ]
     },
     "execution_count": 5,
     "metadata": {},
     "output_type": "execute_result"
    }
   ],
   "source": [
    "train.head()"
   ]
  },
  {
   "cell_type": "code",
   "execution_count": 6,
   "id": "7c5a26b6-8b50-46b9-b2a4-f2de404f7408",
   "metadata": {},
   "outputs": [
    {
     "data": {
      "text/html": [
       "<div>\n",
       "<style scoped>\n",
       "    .dataframe tbody tr th:only-of-type {\n",
       "        vertical-align: middle;\n",
       "    }\n",
       "\n",
       "    .dataframe tbody tr th {\n",
       "        vertical-align: top;\n",
       "    }\n",
       "\n",
       "    .dataframe thead th {\n",
       "        text-align: right;\n",
       "    }\n",
       "</style>\n",
       "<table border=\"1\" class=\"dataframe\">\n",
       "  <thead>\n",
       "    <tr style=\"text-align: right;\">\n",
       "      <th></th>\n",
       "      <th>Id</th>\n",
       "      <th>Date</th>\n",
       "      <th>Address</th>\n",
       "      <th>Species</th>\n",
       "      <th>Block</th>\n",
       "      <th>Street</th>\n",
       "      <th>Trap</th>\n",
       "      <th>AddressNumberAndStreet</th>\n",
       "      <th>Latitude</th>\n",
       "      <th>Longitude</th>\n",
       "      <th>AddressAccuracy</th>\n",
       "    </tr>\n",
       "  </thead>\n",
       "  <tbody>\n",
       "    <tr>\n",
       "      <th>0</th>\n",
       "      <td>1</td>\n",
       "      <td>2008-06-11</td>\n",
       "      <td>4100 North Oak Park Avenue, Chicago, IL 60634,...</td>\n",
       "      <td>CULEX PIPIENS/RESTUANS</td>\n",
       "      <td>41</td>\n",
       "      <td>N OAK PARK AVE</td>\n",
       "      <td>T002</td>\n",
       "      <td>4100  N OAK PARK AVE, Chicago, IL</td>\n",
       "      <td>41.95469</td>\n",
       "      <td>-87.800991</td>\n",
       "      <td>9</td>\n",
       "    </tr>\n",
       "    <tr>\n",
       "      <th>1</th>\n",
       "      <td>2</td>\n",
       "      <td>2008-06-11</td>\n",
       "      <td>4100 North Oak Park Avenue, Chicago, IL 60634,...</td>\n",
       "      <td>CULEX RESTUANS</td>\n",
       "      <td>41</td>\n",
       "      <td>N OAK PARK AVE</td>\n",
       "      <td>T002</td>\n",
       "      <td>4100  N OAK PARK AVE, Chicago, IL</td>\n",
       "      <td>41.95469</td>\n",
       "      <td>-87.800991</td>\n",
       "      <td>9</td>\n",
       "    </tr>\n",
       "    <tr>\n",
       "      <th>2</th>\n",
       "      <td>3</td>\n",
       "      <td>2008-06-11</td>\n",
       "      <td>4100 North Oak Park Avenue, Chicago, IL 60634,...</td>\n",
       "      <td>CULEX PIPIENS</td>\n",
       "      <td>41</td>\n",
       "      <td>N OAK PARK AVE</td>\n",
       "      <td>T002</td>\n",
       "      <td>4100  N OAK PARK AVE, Chicago, IL</td>\n",
       "      <td>41.95469</td>\n",
       "      <td>-87.800991</td>\n",
       "      <td>9</td>\n",
       "    </tr>\n",
       "    <tr>\n",
       "      <th>3</th>\n",
       "      <td>4</td>\n",
       "      <td>2008-06-11</td>\n",
       "      <td>4100 North Oak Park Avenue, Chicago, IL 60634,...</td>\n",
       "      <td>CULEX SALINARIUS</td>\n",
       "      <td>41</td>\n",
       "      <td>N OAK PARK AVE</td>\n",
       "      <td>T002</td>\n",
       "      <td>4100  N OAK PARK AVE, Chicago, IL</td>\n",
       "      <td>41.95469</td>\n",
       "      <td>-87.800991</td>\n",
       "      <td>9</td>\n",
       "    </tr>\n",
       "    <tr>\n",
       "      <th>4</th>\n",
       "      <td>5</td>\n",
       "      <td>2008-06-11</td>\n",
       "      <td>4100 North Oak Park Avenue, Chicago, IL 60634,...</td>\n",
       "      <td>CULEX TERRITANS</td>\n",
       "      <td>41</td>\n",
       "      <td>N OAK PARK AVE</td>\n",
       "      <td>T002</td>\n",
       "      <td>4100  N OAK PARK AVE, Chicago, IL</td>\n",
       "      <td>41.95469</td>\n",
       "      <td>-87.800991</td>\n",
       "      <td>9</td>\n",
       "    </tr>\n",
       "  </tbody>\n",
       "</table>\n",
       "</div>"
      ],
      "text/plain": [
       "   Id        Date                                            Address  \\\n",
       "0   1  2008-06-11  4100 North Oak Park Avenue, Chicago, IL 60634,...   \n",
       "1   2  2008-06-11  4100 North Oak Park Avenue, Chicago, IL 60634,...   \n",
       "2   3  2008-06-11  4100 North Oak Park Avenue, Chicago, IL 60634,...   \n",
       "3   4  2008-06-11  4100 North Oak Park Avenue, Chicago, IL 60634,...   \n",
       "4   5  2008-06-11  4100 North Oak Park Avenue, Chicago, IL 60634,...   \n",
       "\n",
       "                  Species  Block           Street  Trap  \\\n",
       "0  CULEX PIPIENS/RESTUANS     41   N OAK PARK AVE  T002   \n",
       "1          CULEX RESTUANS     41   N OAK PARK AVE  T002   \n",
       "2           CULEX PIPIENS     41   N OAK PARK AVE  T002   \n",
       "3        CULEX SALINARIUS     41   N OAK PARK AVE  T002   \n",
       "4         CULEX TERRITANS     41   N OAK PARK AVE  T002   \n",
       "\n",
       "              AddressNumberAndStreet  Latitude  Longitude  AddressAccuracy  \n",
       "0  4100  N OAK PARK AVE, Chicago, IL  41.95469 -87.800991                9  \n",
       "1  4100  N OAK PARK AVE, Chicago, IL  41.95469 -87.800991                9  \n",
       "2  4100  N OAK PARK AVE, Chicago, IL  41.95469 -87.800991                9  \n",
       "3  4100  N OAK PARK AVE, Chicago, IL  41.95469 -87.800991                9  \n",
       "4  4100  N OAK PARK AVE, Chicago, IL  41.95469 -87.800991                9  "
      ]
     },
     "execution_count": 6,
     "metadata": {},
     "output_type": "execute_result"
    }
   ],
   "source": [
    "test.head()"
   ]
  },
  {
   "cell_type": "code",
   "execution_count": 7,
   "id": "5191b209-f768-4e57-993c-7153e82973e1",
   "metadata": {},
   "outputs": [
    {
     "data": {
      "text/html": [
       "<div>\n",
       "<style scoped>\n",
       "    .dataframe tbody tr th:only-of-type {\n",
       "        vertical-align: middle;\n",
       "    }\n",
       "\n",
       "    .dataframe tbody tr th {\n",
       "        vertical-align: top;\n",
       "    }\n",
       "\n",
       "    .dataframe thead th {\n",
       "        text-align: right;\n",
       "    }\n",
       "</style>\n",
       "<table border=\"1\" class=\"dataframe\">\n",
       "  <thead>\n",
       "    <tr style=\"text-align: right;\">\n",
       "      <th></th>\n",
       "      <th>Date</th>\n",
       "      <th>Time</th>\n",
       "      <th>Latitude</th>\n",
       "      <th>Longitude</th>\n",
       "    </tr>\n",
       "  </thead>\n",
       "  <tbody>\n",
       "    <tr>\n",
       "      <th>0</th>\n",
       "      <td>2011-08-29</td>\n",
       "      <td>6:56:58 PM</td>\n",
       "      <td>42.391623</td>\n",
       "      <td>-88.089163</td>\n",
       "    </tr>\n",
       "    <tr>\n",
       "      <th>1</th>\n",
       "      <td>2011-08-29</td>\n",
       "      <td>6:57:08 PM</td>\n",
       "      <td>42.391348</td>\n",
       "      <td>-88.089163</td>\n",
       "    </tr>\n",
       "    <tr>\n",
       "      <th>2</th>\n",
       "      <td>2011-08-29</td>\n",
       "      <td>6:57:18 PM</td>\n",
       "      <td>42.391022</td>\n",
       "      <td>-88.089157</td>\n",
       "    </tr>\n",
       "    <tr>\n",
       "      <th>3</th>\n",
       "      <td>2011-08-29</td>\n",
       "      <td>6:57:28 PM</td>\n",
       "      <td>42.390637</td>\n",
       "      <td>-88.089158</td>\n",
       "    </tr>\n",
       "    <tr>\n",
       "      <th>4</th>\n",
       "      <td>2011-08-29</td>\n",
       "      <td>6:57:38 PM</td>\n",
       "      <td>42.390410</td>\n",
       "      <td>-88.088858</td>\n",
       "    </tr>\n",
       "  </tbody>\n",
       "</table>\n",
       "</div>"
      ],
      "text/plain": [
       "         Date        Time   Latitude  Longitude\n",
       "0  2011-08-29  6:56:58 PM  42.391623 -88.089163\n",
       "1  2011-08-29  6:57:08 PM  42.391348 -88.089163\n",
       "2  2011-08-29  6:57:18 PM  42.391022 -88.089157\n",
       "3  2011-08-29  6:57:28 PM  42.390637 -88.089158\n",
       "4  2011-08-29  6:57:38 PM  42.390410 -88.088858"
      ]
     },
     "execution_count": 7,
     "metadata": {},
     "output_type": "execute_result"
    }
   ],
   "source": [
    "spray.head()"
   ]
  },
  {
   "cell_type": "code",
   "execution_count": 8,
   "id": "75478c6f-220f-4cc9-9b8b-bfdb8d8f88cc",
   "metadata": {},
   "outputs": [
    {
     "data": {
      "text/html": [
       "<div>\n",
       "<style scoped>\n",
       "    .dataframe tbody tr th:only-of-type {\n",
       "        vertical-align: middle;\n",
       "    }\n",
       "\n",
       "    .dataframe tbody tr th {\n",
       "        vertical-align: top;\n",
       "    }\n",
       "\n",
       "    .dataframe thead th {\n",
       "        text-align: right;\n",
       "    }\n",
       "</style>\n",
       "<table border=\"1\" class=\"dataframe\">\n",
       "  <thead>\n",
       "    <tr style=\"text-align: right;\">\n",
       "      <th></th>\n",
       "      <th>Station</th>\n",
       "      <th>Date</th>\n",
       "      <th>Tmax</th>\n",
       "      <th>Tmin</th>\n",
       "      <th>Tavg</th>\n",
       "      <th>Depart</th>\n",
       "      <th>DewPoint</th>\n",
       "      <th>WetBulb</th>\n",
       "      <th>Heat</th>\n",
       "      <th>Cool</th>\n",
       "      <th>Sunrise</th>\n",
       "      <th>Sunset</th>\n",
       "      <th>CodeSum</th>\n",
       "      <th>Depth</th>\n",
       "      <th>Water1</th>\n",
       "      <th>SnowFall</th>\n",
       "      <th>PrecipTotal</th>\n",
       "      <th>StnPressure</th>\n",
       "      <th>SeaLevel</th>\n",
       "      <th>ResultSpeed</th>\n",
       "      <th>ResultDir</th>\n",
       "      <th>AvgSpeed</th>\n",
       "    </tr>\n",
       "  </thead>\n",
       "  <tbody>\n",
       "    <tr>\n",
       "      <th>0</th>\n",
       "      <td>1</td>\n",
       "      <td>2007-05-01</td>\n",
       "      <td>83</td>\n",
       "      <td>50</td>\n",
       "      <td>67</td>\n",
       "      <td>14</td>\n",
       "      <td>51</td>\n",
       "      <td>56</td>\n",
       "      <td>0</td>\n",
       "      <td>2</td>\n",
       "      <td>0448</td>\n",
       "      <td>1849</td>\n",
       "      <td></td>\n",
       "      <td>0</td>\n",
       "      <td>M</td>\n",
       "      <td>0.0</td>\n",
       "      <td>0.00</td>\n",
       "      <td>29.10</td>\n",
       "      <td>29.82</td>\n",
       "      <td>1.7</td>\n",
       "      <td>27</td>\n",
       "      <td>9.2</td>\n",
       "    </tr>\n",
       "    <tr>\n",
       "      <th>1</th>\n",
       "      <td>2</td>\n",
       "      <td>2007-05-01</td>\n",
       "      <td>84</td>\n",
       "      <td>52</td>\n",
       "      <td>68</td>\n",
       "      <td>M</td>\n",
       "      <td>51</td>\n",
       "      <td>57</td>\n",
       "      <td>0</td>\n",
       "      <td>3</td>\n",
       "      <td>-</td>\n",
       "      <td>-</td>\n",
       "      <td></td>\n",
       "      <td>M</td>\n",
       "      <td>M</td>\n",
       "      <td>M</td>\n",
       "      <td>0.00</td>\n",
       "      <td>29.18</td>\n",
       "      <td>29.82</td>\n",
       "      <td>2.7</td>\n",
       "      <td>25</td>\n",
       "      <td>9.6</td>\n",
       "    </tr>\n",
       "    <tr>\n",
       "      <th>2</th>\n",
       "      <td>1</td>\n",
       "      <td>2007-05-02</td>\n",
       "      <td>59</td>\n",
       "      <td>42</td>\n",
       "      <td>51</td>\n",
       "      <td>-3</td>\n",
       "      <td>42</td>\n",
       "      <td>47</td>\n",
       "      <td>14</td>\n",
       "      <td>0</td>\n",
       "      <td>0447</td>\n",
       "      <td>1850</td>\n",
       "      <td>BR</td>\n",
       "      <td>0</td>\n",
       "      <td>M</td>\n",
       "      <td>0.0</td>\n",
       "      <td>0.00</td>\n",
       "      <td>29.38</td>\n",
       "      <td>30.09</td>\n",
       "      <td>13.0</td>\n",
       "      <td>4</td>\n",
       "      <td>13.4</td>\n",
       "    </tr>\n",
       "    <tr>\n",
       "      <th>3</th>\n",
       "      <td>2</td>\n",
       "      <td>2007-05-02</td>\n",
       "      <td>60</td>\n",
       "      <td>43</td>\n",
       "      <td>52</td>\n",
       "      <td>M</td>\n",
       "      <td>42</td>\n",
       "      <td>47</td>\n",
       "      <td>13</td>\n",
       "      <td>0</td>\n",
       "      <td>-</td>\n",
       "      <td>-</td>\n",
       "      <td>BR HZ</td>\n",
       "      <td>M</td>\n",
       "      <td>M</td>\n",
       "      <td>M</td>\n",
       "      <td>0.00</td>\n",
       "      <td>29.44</td>\n",
       "      <td>30.08</td>\n",
       "      <td>13.3</td>\n",
       "      <td>2</td>\n",
       "      <td>13.4</td>\n",
       "    </tr>\n",
       "    <tr>\n",
       "      <th>4</th>\n",
       "      <td>1</td>\n",
       "      <td>2007-05-03</td>\n",
       "      <td>66</td>\n",
       "      <td>46</td>\n",
       "      <td>56</td>\n",
       "      <td>2</td>\n",
       "      <td>40</td>\n",
       "      <td>48</td>\n",
       "      <td>9</td>\n",
       "      <td>0</td>\n",
       "      <td>0446</td>\n",
       "      <td>1851</td>\n",
       "      <td></td>\n",
       "      <td>0</td>\n",
       "      <td>M</td>\n",
       "      <td>0.0</td>\n",
       "      <td>0.00</td>\n",
       "      <td>29.39</td>\n",
       "      <td>30.12</td>\n",
       "      <td>11.7</td>\n",
       "      <td>7</td>\n",
       "      <td>11.9</td>\n",
       "    </tr>\n",
       "  </tbody>\n",
       "</table>\n",
       "</div>"
      ],
      "text/plain": [
       "   Station        Date  Tmax  Tmin Tavg Depart  DewPoint WetBulb Heat Cool  \\\n",
       "0        1  2007-05-01    83    50   67     14        51      56    0    2   \n",
       "1        2  2007-05-01    84    52   68      M        51      57    0    3   \n",
       "2        1  2007-05-02    59    42   51     -3        42      47   14    0   \n",
       "3        2  2007-05-02    60    43   52      M        42      47   13    0   \n",
       "4        1  2007-05-03    66    46   56      2        40      48    9    0   \n",
       "\n",
       "  Sunrise Sunset CodeSum Depth Water1 SnowFall PrecipTotal StnPressure  \\\n",
       "0    0448   1849             0      M      0.0        0.00       29.10   \n",
       "1       -      -             M      M        M        0.00       29.18   \n",
       "2    0447   1850      BR     0      M      0.0        0.00       29.38   \n",
       "3       -      -   BR HZ     M      M        M        0.00       29.44   \n",
       "4    0446   1851             0      M      0.0        0.00       29.39   \n",
       "\n",
       "  SeaLevel  ResultSpeed  ResultDir AvgSpeed  \n",
       "0    29.82          1.7         27      9.2  \n",
       "1    29.82          2.7         25      9.6  \n",
       "2    30.09         13.0          4     13.4  \n",
       "3    30.08         13.3          2     13.4  \n",
       "4    30.12         11.7          7     11.9  "
      ]
     },
     "execution_count": 8,
     "metadata": {},
     "output_type": "execute_result"
    }
   ],
   "source": [
    "weather.head()"
   ]
  },
  {
   "cell_type": "markdown",
   "id": "ce633f7b-6b99-4efa-9b3b-6f5435e08eef",
   "metadata": {},
   "source": [
    "### Data Cleaning"
   ]
  },
  {
   "cell_type": "markdown",
   "id": "4b53365c-1cf3-4bbb-9467-f665893d5560",
   "metadata": {},
   "source": [
    "#### Train Dataset"
   ]
  },
  {
   "cell_type": "code",
   "execution_count": 9,
   "id": "a090ed1e-cc67-4c66-a23a-b2f4535a014c",
   "metadata": {},
   "outputs": [
    {
     "data": {
      "text/plain": [
       "(10506, 12)"
      ]
     },
     "execution_count": 9,
     "metadata": {},
     "output_type": "execute_result"
    }
   ],
   "source": [
    "train.shape"
   ]
  },
  {
   "cell_type": "code",
   "execution_count": 10,
   "id": "9de25463-3105-4301-b321-0c5a9b14e422",
   "metadata": {},
   "outputs": [],
   "source": [
    "# Consolidating the number of mosquitoes and the presence of west nile virus \n",
    "train = train.groupby(by=['Date', 'Address', 'Species', 'Block', 'Street', 'Trap', 'AddressNumberAndStreet', 'Latitude', 'Longitude', 'AddressAccuracy']).agg('sum')"
   ]
  },
  {
   "cell_type": "code",
   "execution_count": 11,
   "id": "f3e1461b-17a7-49f9-bfd3-6e580c55d6d9",
   "metadata": {},
   "outputs": [],
   "source": [
    "train = pd.DataFrame(train.to_records())"
   ]
  },
  {
   "cell_type": "code",
   "execution_count": 12,
   "id": "0c589e7c-511d-4be3-b9e6-91c38f032ccc",
   "metadata": {},
   "outputs": [
    {
     "data": {
      "text/html": [
       "<div>\n",
       "<style scoped>\n",
       "    .dataframe tbody tr th:only-of-type {\n",
       "        vertical-align: middle;\n",
       "    }\n",
       "\n",
       "    .dataframe tbody tr th {\n",
       "        vertical-align: top;\n",
       "    }\n",
       "\n",
       "    .dataframe thead th {\n",
       "        text-align: right;\n",
       "    }\n",
       "</style>\n",
       "<table border=\"1\" class=\"dataframe\">\n",
       "  <thead>\n",
       "    <tr style=\"text-align: right;\">\n",
       "      <th></th>\n",
       "      <th>Date</th>\n",
       "      <th>Address</th>\n",
       "      <th>Species</th>\n",
       "      <th>Block</th>\n",
       "      <th>Street</th>\n",
       "      <th>Trap</th>\n",
       "      <th>AddressNumberAndStreet</th>\n",
       "      <th>Latitude</th>\n",
       "      <th>Longitude</th>\n",
       "      <th>AddressAccuracy</th>\n",
       "      <th>NumMosquitos</th>\n",
       "      <th>WnvPresent</th>\n",
       "    </tr>\n",
       "  </thead>\n",
       "  <tbody>\n",
       "    <tr>\n",
       "      <th>0</th>\n",
       "      <td>2007-05-29</td>\n",
       "      <td>1100 Roosevelt Road, Chicago, IL 60608, USA</td>\n",
       "      <td>CULEX PIPIENS/RESTUANS</td>\n",
       "      <td>11</td>\n",
       "      <td>W ROOSEVELT</td>\n",
       "      <td>T048</td>\n",
       "      <td>1100  W ROOSEVELT, Chicago, IL</td>\n",
       "      <td>41.867108</td>\n",
       "      <td>-87.654224</td>\n",
       "      <td>8</td>\n",
       "      <td>1</td>\n",
       "      <td>0</td>\n",
       "    </tr>\n",
       "    <tr>\n",
       "      <th>1</th>\n",
       "      <td>2007-05-29</td>\n",
       "      <td>1100 Roosevelt Road, Chicago, IL 60608, USA</td>\n",
       "      <td>CULEX RESTUANS</td>\n",
       "      <td>11</td>\n",
       "      <td>W ROOSEVELT</td>\n",
       "      <td>T048</td>\n",
       "      <td>1100  W ROOSEVELT, Chicago, IL</td>\n",
       "      <td>41.867108</td>\n",
       "      <td>-87.654224</td>\n",
       "      <td>8</td>\n",
       "      <td>2</td>\n",
       "      <td>0</td>\n",
       "    </tr>\n",
       "    <tr>\n",
       "      <th>2</th>\n",
       "      <td>2007-05-29</td>\n",
       "      <td>1100 South Peoria Street, Chicago, IL 60608, USA</td>\n",
       "      <td>CULEX RESTUANS</td>\n",
       "      <td>11</td>\n",
       "      <td>S PEORIA ST</td>\n",
       "      <td>T091</td>\n",
       "      <td>1100  S PEORIA ST, Chicago, IL</td>\n",
       "      <td>41.862292</td>\n",
       "      <td>-87.648860</td>\n",
       "      <td>8</td>\n",
       "      <td>1</td>\n",
       "      <td>0</td>\n",
       "    </tr>\n",
       "    <tr>\n",
       "      <th>3</th>\n",
       "      <td>2007-05-29</td>\n",
       "      <td>1100 West Chicago Avenue, Chicago, IL 60642, USA</td>\n",
       "      <td>CULEX RESTUANS</td>\n",
       "      <td>11</td>\n",
       "      <td>W CHICAGO</td>\n",
       "      <td>T049</td>\n",
       "      <td>1100  W CHICAGO, Chicago, IL</td>\n",
       "      <td>41.896282</td>\n",
       "      <td>-87.655232</td>\n",
       "      <td>8</td>\n",
       "      <td>1</td>\n",
       "      <td>0</td>\n",
       "    </tr>\n",
       "    <tr>\n",
       "      <th>4</th>\n",
       "      <td>2007-05-29</td>\n",
       "      <td>1500 North Long Avenue, Chicago, IL 60651, USA</td>\n",
       "      <td>CULEX RESTUANS</td>\n",
       "      <td>15</td>\n",
       "      <td>N LONG AVE</td>\n",
       "      <td>T153</td>\n",
       "      <td>1500  N LONG AVE, Chicago, IL</td>\n",
       "      <td>41.907645</td>\n",
       "      <td>-87.760886</td>\n",
       "      <td>8</td>\n",
       "      <td>1</td>\n",
       "      <td>0</td>\n",
       "    </tr>\n",
       "  </tbody>\n",
       "</table>\n",
       "</div>"
      ],
      "text/plain": [
       "         Date                                           Address  \\\n",
       "0  2007-05-29       1100 Roosevelt Road, Chicago, IL 60608, USA   \n",
       "1  2007-05-29       1100 Roosevelt Road, Chicago, IL 60608, USA   \n",
       "2  2007-05-29  1100 South Peoria Street, Chicago, IL 60608, USA   \n",
       "3  2007-05-29  1100 West Chicago Avenue, Chicago, IL 60642, USA   \n",
       "4  2007-05-29    1500 North Long Avenue, Chicago, IL 60651, USA   \n",
       "\n",
       "                  Species  Block        Street  Trap  \\\n",
       "0  CULEX PIPIENS/RESTUANS     11   W ROOSEVELT  T048   \n",
       "1          CULEX RESTUANS     11   W ROOSEVELT  T048   \n",
       "2          CULEX RESTUANS     11   S PEORIA ST  T091   \n",
       "3          CULEX RESTUANS     11     W CHICAGO  T049   \n",
       "4          CULEX RESTUANS     15    N LONG AVE  T153   \n",
       "\n",
       "           AddressNumberAndStreet   Latitude  Longitude  AddressAccuracy  \\\n",
       "0  1100  W ROOSEVELT, Chicago, IL  41.867108 -87.654224                8   \n",
       "1  1100  W ROOSEVELT, Chicago, IL  41.867108 -87.654224                8   \n",
       "2  1100  S PEORIA ST, Chicago, IL  41.862292 -87.648860                8   \n",
       "3    1100  W CHICAGO, Chicago, IL  41.896282 -87.655232                8   \n",
       "4   1500  N LONG AVE, Chicago, IL  41.907645 -87.760886                8   \n",
       "\n",
       "   NumMosquitos  WnvPresent  \n",
       "0             1           0  \n",
       "1             2           0  \n",
       "2             1           0  \n",
       "3             1           0  \n",
       "4             1           0  "
      ]
     },
     "execution_count": 12,
     "metadata": {},
     "output_type": "execute_result"
    }
   ],
   "source": [
    "train.head()"
   ]
  },
  {
   "cell_type": "code",
   "execution_count": 13,
   "id": "00b0c490-8b7c-4d3f-822b-e75d1be62c1f",
   "metadata": {},
   "outputs": [
    {
     "data": {
      "text/html": [
       "<div>\n",
       "<style scoped>\n",
       "    .dataframe tbody tr th:only-of-type {\n",
       "        vertical-align: middle;\n",
       "    }\n",
       "\n",
       "    .dataframe tbody tr th {\n",
       "        vertical-align: top;\n",
       "    }\n",
       "\n",
       "    .dataframe thead th {\n",
       "        text-align: right;\n",
       "    }\n",
       "</style>\n",
       "<table border=\"1\" class=\"dataframe\">\n",
       "  <thead>\n",
       "    <tr style=\"text-align: right;\">\n",
       "      <th></th>\n",
       "      <th>date</th>\n",
       "      <th>address</th>\n",
       "      <th>species</th>\n",
       "      <th>block</th>\n",
       "      <th>street</th>\n",
       "      <th>trap</th>\n",
       "      <th>addressnumberandstreet</th>\n",
       "      <th>latitude</th>\n",
       "      <th>longitude</th>\n",
       "      <th>addressaccuracy</th>\n",
       "      <th>nummosquitos</th>\n",
       "      <th>wnvpresent</th>\n",
       "    </tr>\n",
       "  </thead>\n",
       "  <tbody>\n",
       "    <tr>\n",
       "      <th>0</th>\n",
       "      <td>2007-05-29</td>\n",
       "      <td>1100 Roosevelt Road, Chicago, IL 60608, USA</td>\n",
       "      <td>CULEX PIPIENS/RESTUANS</td>\n",
       "      <td>11</td>\n",
       "      <td>W ROOSEVELT</td>\n",
       "      <td>T048</td>\n",
       "      <td>1100  W ROOSEVELT, Chicago, IL</td>\n",
       "      <td>41.867108</td>\n",
       "      <td>-87.654224</td>\n",
       "      <td>8</td>\n",
       "      <td>1</td>\n",
       "      <td>0</td>\n",
       "    </tr>\n",
       "    <tr>\n",
       "      <th>1</th>\n",
       "      <td>2007-05-29</td>\n",
       "      <td>1100 Roosevelt Road, Chicago, IL 60608, USA</td>\n",
       "      <td>CULEX RESTUANS</td>\n",
       "      <td>11</td>\n",
       "      <td>W ROOSEVELT</td>\n",
       "      <td>T048</td>\n",
       "      <td>1100  W ROOSEVELT, Chicago, IL</td>\n",
       "      <td>41.867108</td>\n",
       "      <td>-87.654224</td>\n",
       "      <td>8</td>\n",
       "      <td>2</td>\n",
       "      <td>0</td>\n",
       "    </tr>\n",
       "    <tr>\n",
       "      <th>2</th>\n",
       "      <td>2007-05-29</td>\n",
       "      <td>1100 South Peoria Street, Chicago, IL 60608, USA</td>\n",
       "      <td>CULEX RESTUANS</td>\n",
       "      <td>11</td>\n",
       "      <td>S PEORIA ST</td>\n",
       "      <td>T091</td>\n",
       "      <td>1100  S PEORIA ST, Chicago, IL</td>\n",
       "      <td>41.862292</td>\n",
       "      <td>-87.648860</td>\n",
       "      <td>8</td>\n",
       "      <td>1</td>\n",
       "      <td>0</td>\n",
       "    </tr>\n",
       "    <tr>\n",
       "      <th>3</th>\n",
       "      <td>2007-05-29</td>\n",
       "      <td>1100 West Chicago Avenue, Chicago, IL 60642, USA</td>\n",
       "      <td>CULEX RESTUANS</td>\n",
       "      <td>11</td>\n",
       "      <td>W CHICAGO</td>\n",
       "      <td>T049</td>\n",
       "      <td>1100  W CHICAGO, Chicago, IL</td>\n",
       "      <td>41.896282</td>\n",
       "      <td>-87.655232</td>\n",
       "      <td>8</td>\n",
       "      <td>1</td>\n",
       "      <td>0</td>\n",
       "    </tr>\n",
       "    <tr>\n",
       "      <th>4</th>\n",
       "      <td>2007-05-29</td>\n",
       "      <td>1500 North Long Avenue, Chicago, IL 60651, USA</td>\n",
       "      <td>CULEX RESTUANS</td>\n",
       "      <td>15</td>\n",
       "      <td>N LONG AVE</td>\n",
       "      <td>T153</td>\n",
       "      <td>1500  N LONG AVE, Chicago, IL</td>\n",
       "      <td>41.907645</td>\n",
       "      <td>-87.760886</td>\n",
       "      <td>8</td>\n",
       "      <td>1</td>\n",
       "      <td>0</td>\n",
       "    </tr>\n",
       "  </tbody>\n",
       "</table>\n",
       "</div>"
      ],
      "text/plain": [
       "         date                                           address  \\\n",
       "0  2007-05-29       1100 Roosevelt Road, Chicago, IL 60608, USA   \n",
       "1  2007-05-29       1100 Roosevelt Road, Chicago, IL 60608, USA   \n",
       "2  2007-05-29  1100 South Peoria Street, Chicago, IL 60608, USA   \n",
       "3  2007-05-29  1100 West Chicago Avenue, Chicago, IL 60642, USA   \n",
       "4  2007-05-29    1500 North Long Avenue, Chicago, IL 60651, USA   \n",
       "\n",
       "                  species  block        street  trap  \\\n",
       "0  CULEX PIPIENS/RESTUANS     11   W ROOSEVELT  T048   \n",
       "1          CULEX RESTUANS     11   W ROOSEVELT  T048   \n",
       "2          CULEX RESTUANS     11   S PEORIA ST  T091   \n",
       "3          CULEX RESTUANS     11     W CHICAGO  T049   \n",
       "4          CULEX RESTUANS     15    N LONG AVE  T153   \n",
       "\n",
       "           addressnumberandstreet   latitude  longitude  addressaccuracy  \\\n",
       "0  1100  W ROOSEVELT, Chicago, IL  41.867108 -87.654224                8   \n",
       "1  1100  W ROOSEVELT, Chicago, IL  41.867108 -87.654224                8   \n",
       "2  1100  S PEORIA ST, Chicago, IL  41.862292 -87.648860                8   \n",
       "3    1100  W CHICAGO, Chicago, IL  41.896282 -87.655232                8   \n",
       "4   1500  N LONG AVE, Chicago, IL  41.907645 -87.760886                8   \n",
       "\n",
       "   nummosquitos  wnvpresent  \n",
       "0             1           0  \n",
       "1             2           0  \n",
       "2             1           0  \n",
       "3             1           0  \n",
       "4             1           0  "
      ]
     },
     "execution_count": 13,
     "metadata": {},
     "output_type": "execute_result"
    }
   ],
   "source": [
    "train.columns = [col.lower() for col in train.columns]\n",
    "train.head()"
   ]
  },
  {
   "cell_type": "code",
   "execution_count": 14,
   "id": "71cc6394-cc30-46fc-8933-d8b8c8c8c7b6",
   "metadata": {},
   "outputs": [
    {
     "data": {
      "text/plain": [
       "(8475, 12)"
      ]
     },
     "execution_count": 14,
     "metadata": {},
     "output_type": "execute_result"
    }
   ],
   "source": [
    "train.shape"
   ]
  },
  {
   "cell_type": "code",
   "execution_count": 15,
   "id": "a501c299-f300-4662-929a-0e48afe3adc1",
   "metadata": {},
   "outputs": [
    {
     "data": {
      "text/plain": [
       "0"
      ]
     },
     "execution_count": 15,
     "metadata": {},
     "output_type": "execute_result"
    }
   ],
   "source": [
    "# No duplicated values\n",
    "train.duplicated().sum()"
   ]
  },
  {
   "cell_type": "code",
   "execution_count": 16,
   "id": "885b1063-a47e-4336-8d6c-e68dc44d98c0",
   "metadata": {},
   "outputs": [
    {
     "data": {
      "text/html": [
       "<div>\n",
       "<style scoped>\n",
       "    .dataframe tbody tr th:only-of-type {\n",
       "        vertical-align: middle;\n",
       "    }\n",
       "\n",
       "    .dataframe tbody tr th {\n",
       "        vertical-align: top;\n",
       "    }\n",
       "\n",
       "    .dataframe thead th {\n",
       "        text-align: right;\n",
       "    }\n",
       "</style>\n",
       "<table border=\"1\" class=\"dataframe\">\n",
       "  <thead>\n",
       "    <tr style=\"text-align: right;\">\n",
       "      <th></th>\n",
       "      <th>id</th>\n",
       "      <th>date</th>\n",
       "      <th>address</th>\n",
       "      <th>species</th>\n",
       "      <th>block</th>\n",
       "      <th>street</th>\n",
       "      <th>trap</th>\n",
       "      <th>addressnumberandstreet</th>\n",
       "      <th>latitude</th>\n",
       "      <th>longitude</th>\n",
       "      <th>addressaccuracy</th>\n",
       "    </tr>\n",
       "  </thead>\n",
       "  <tbody>\n",
       "    <tr>\n",
       "      <th>0</th>\n",
       "      <td>1</td>\n",
       "      <td>2008-06-11</td>\n",
       "      <td>4100 North Oak Park Avenue, Chicago, IL 60634,...</td>\n",
       "      <td>CULEX PIPIENS/RESTUANS</td>\n",
       "      <td>41</td>\n",
       "      <td>N OAK PARK AVE</td>\n",
       "      <td>T002</td>\n",
       "      <td>4100  N OAK PARK AVE, Chicago, IL</td>\n",
       "      <td>41.95469</td>\n",
       "      <td>-87.800991</td>\n",
       "      <td>9</td>\n",
       "    </tr>\n",
       "    <tr>\n",
       "      <th>1</th>\n",
       "      <td>2</td>\n",
       "      <td>2008-06-11</td>\n",
       "      <td>4100 North Oak Park Avenue, Chicago, IL 60634,...</td>\n",
       "      <td>CULEX RESTUANS</td>\n",
       "      <td>41</td>\n",
       "      <td>N OAK PARK AVE</td>\n",
       "      <td>T002</td>\n",
       "      <td>4100  N OAK PARK AVE, Chicago, IL</td>\n",
       "      <td>41.95469</td>\n",
       "      <td>-87.800991</td>\n",
       "      <td>9</td>\n",
       "    </tr>\n",
       "    <tr>\n",
       "      <th>2</th>\n",
       "      <td>3</td>\n",
       "      <td>2008-06-11</td>\n",
       "      <td>4100 North Oak Park Avenue, Chicago, IL 60634,...</td>\n",
       "      <td>CULEX PIPIENS</td>\n",
       "      <td>41</td>\n",
       "      <td>N OAK PARK AVE</td>\n",
       "      <td>T002</td>\n",
       "      <td>4100  N OAK PARK AVE, Chicago, IL</td>\n",
       "      <td>41.95469</td>\n",
       "      <td>-87.800991</td>\n",
       "      <td>9</td>\n",
       "    </tr>\n",
       "    <tr>\n",
       "      <th>3</th>\n",
       "      <td>4</td>\n",
       "      <td>2008-06-11</td>\n",
       "      <td>4100 North Oak Park Avenue, Chicago, IL 60634,...</td>\n",
       "      <td>CULEX SALINARIUS</td>\n",
       "      <td>41</td>\n",
       "      <td>N OAK PARK AVE</td>\n",
       "      <td>T002</td>\n",
       "      <td>4100  N OAK PARK AVE, Chicago, IL</td>\n",
       "      <td>41.95469</td>\n",
       "      <td>-87.800991</td>\n",
       "      <td>9</td>\n",
       "    </tr>\n",
       "    <tr>\n",
       "      <th>4</th>\n",
       "      <td>5</td>\n",
       "      <td>2008-06-11</td>\n",
       "      <td>4100 North Oak Park Avenue, Chicago, IL 60634,...</td>\n",
       "      <td>CULEX TERRITANS</td>\n",
       "      <td>41</td>\n",
       "      <td>N OAK PARK AVE</td>\n",
       "      <td>T002</td>\n",
       "      <td>4100  N OAK PARK AVE, Chicago, IL</td>\n",
       "      <td>41.95469</td>\n",
       "      <td>-87.800991</td>\n",
       "      <td>9</td>\n",
       "    </tr>\n",
       "  </tbody>\n",
       "</table>\n",
       "</div>"
      ],
      "text/plain": [
       "   id        date                                            address  \\\n",
       "0   1  2008-06-11  4100 North Oak Park Avenue, Chicago, IL 60634,...   \n",
       "1   2  2008-06-11  4100 North Oak Park Avenue, Chicago, IL 60634,...   \n",
       "2   3  2008-06-11  4100 North Oak Park Avenue, Chicago, IL 60634,...   \n",
       "3   4  2008-06-11  4100 North Oak Park Avenue, Chicago, IL 60634,...   \n",
       "4   5  2008-06-11  4100 North Oak Park Avenue, Chicago, IL 60634,...   \n",
       "\n",
       "                  species  block           street  trap  \\\n",
       "0  CULEX PIPIENS/RESTUANS     41   N OAK PARK AVE  T002   \n",
       "1          CULEX RESTUANS     41   N OAK PARK AVE  T002   \n",
       "2           CULEX PIPIENS     41   N OAK PARK AVE  T002   \n",
       "3        CULEX SALINARIUS     41   N OAK PARK AVE  T002   \n",
       "4         CULEX TERRITANS     41   N OAK PARK AVE  T002   \n",
       "\n",
       "              addressnumberandstreet  latitude  longitude  addressaccuracy  \n",
       "0  4100  N OAK PARK AVE, Chicago, IL  41.95469 -87.800991                9  \n",
       "1  4100  N OAK PARK AVE, Chicago, IL  41.95469 -87.800991                9  \n",
       "2  4100  N OAK PARK AVE, Chicago, IL  41.95469 -87.800991                9  \n",
       "3  4100  N OAK PARK AVE, Chicago, IL  41.95469 -87.800991                9  \n",
       "4  4100  N OAK PARK AVE, Chicago, IL  41.95469 -87.800991                9  "
      ]
     },
     "execution_count": 16,
     "metadata": {},
     "output_type": "execute_result"
    }
   ],
   "source": [
    "test.columns = [col.lower() for col in test.columns]\n",
    "test.head()"
   ]
  },
  {
   "cell_type": "markdown",
   "id": "ee0c1b96-a9f4-4688-a3db-2c415b5bcef2",
   "metadata": {},
   "source": [
    "Based on the description of the train and test datasets, each row has a maximum number of 50 mosquitoes. Using groupby, we shall aggregate the number of mosquitoes and the number of weset nile virus reported. In the process, this reduces the number of rows from 10506 to 8475. "
   ]
  },
  {
   "cell_type": "markdown",
   "id": "8105cc58-e667-4c6e-b87b-9a5a80836283",
   "metadata": {},
   "source": [
    "**Comment**: Need to think if we want to do the same for the test dataset as well. Reducing the number of rows might not be ideal for analysis. Need to find out more about kaggle submission."
   ]
  },
  {
   "cell_type": "markdown",
   "id": "cfc1d9a4-791a-4ba5-b3d6-26c0fc1eafce",
   "metadata": {
    "tags": []
   },
   "source": [
    "#### Spray Dataset"
   ]
  },
  {
   "cell_type": "code",
   "execution_count": 17,
   "id": "d22941bf-ffd0-416f-95f4-6f5d4acac7d9",
   "metadata": {},
   "outputs": [
    {
     "name": "stdout",
     "output_type": "stream",
     "text": [
      "(14835, 4)\n"
     ]
    },
    {
     "data": {
      "text/html": [
       "<div>\n",
       "<style scoped>\n",
       "    .dataframe tbody tr th:only-of-type {\n",
       "        vertical-align: middle;\n",
       "    }\n",
       "\n",
       "    .dataframe tbody tr th {\n",
       "        vertical-align: top;\n",
       "    }\n",
       "\n",
       "    .dataframe thead th {\n",
       "        text-align: right;\n",
       "    }\n",
       "</style>\n",
       "<table border=\"1\" class=\"dataframe\">\n",
       "  <thead>\n",
       "    <tr style=\"text-align: right;\">\n",
       "      <th></th>\n",
       "      <th>Date</th>\n",
       "      <th>Time</th>\n",
       "      <th>Latitude</th>\n",
       "      <th>Longitude</th>\n",
       "    </tr>\n",
       "  </thead>\n",
       "  <tbody>\n",
       "    <tr>\n",
       "      <th>0</th>\n",
       "      <td>2011-08-29</td>\n",
       "      <td>6:56:58 PM</td>\n",
       "      <td>42.391623</td>\n",
       "      <td>-88.089163</td>\n",
       "    </tr>\n",
       "    <tr>\n",
       "      <th>1</th>\n",
       "      <td>2011-08-29</td>\n",
       "      <td>6:57:08 PM</td>\n",
       "      <td>42.391348</td>\n",
       "      <td>-88.089163</td>\n",
       "    </tr>\n",
       "    <tr>\n",
       "      <th>2</th>\n",
       "      <td>2011-08-29</td>\n",
       "      <td>6:57:18 PM</td>\n",
       "      <td>42.391022</td>\n",
       "      <td>-88.089157</td>\n",
       "    </tr>\n",
       "    <tr>\n",
       "      <th>3</th>\n",
       "      <td>2011-08-29</td>\n",
       "      <td>6:57:28 PM</td>\n",
       "      <td>42.390637</td>\n",
       "      <td>-88.089158</td>\n",
       "    </tr>\n",
       "    <tr>\n",
       "      <th>4</th>\n",
       "      <td>2011-08-29</td>\n",
       "      <td>6:57:38 PM</td>\n",
       "      <td>42.390410</td>\n",
       "      <td>-88.088858</td>\n",
       "    </tr>\n",
       "  </tbody>\n",
       "</table>\n",
       "</div>"
      ],
      "text/plain": [
       "         Date        Time   Latitude  Longitude\n",
       "0  2011-08-29  6:56:58 PM  42.391623 -88.089163\n",
       "1  2011-08-29  6:57:08 PM  42.391348 -88.089163\n",
       "2  2011-08-29  6:57:18 PM  42.391022 -88.089157\n",
       "3  2011-08-29  6:57:28 PM  42.390637 -88.089158\n",
       "4  2011-08-29  6:57:38 PM  42.390410 -88.088858"
      ]
     },
     "execution_count": 17,
     "metadata": {},
     "output_type": "execute_result"
    }
   ],
   "source": [
    "#checking\n",
    "print(spray.shape)\n",
    "spray.head()"
   ]
  },
  {
   "cell_type": "code",
   "execution_count": 18,
   "id": "9453601b-3211-40a5-8629-5fc07df7bf1c",
   "metadata": {},
   "outputs": [
    {
     "data": {
      "text/html": [
       "<div>\n",
       "<style scoped>\n",
       "    .dataframe tbody tr th:only-of-type {\n",
       "        vertical-align: middle;\n",
       "    }\n",
       "\n",
       "    .dataframe tbody tr th {\n",
       "        vertical-align: top;\n",
       "    }\n",
       "\n",
       "    .dataframe thead th {\n",
       "        text-align: right;\n",
       "    }\n",
       "</style>\n",
       "<table border=\"1\" class=\"dataframe\">\n",
       "  <thead>\n",
       "    <tr style=\"text-align: right;\">\n",
       "      <th></th>\n",
       "      <th>date</th>\n",
       "      <th>time</th>\n",
       "      <th>latitude</th>\n",
       "      <th>longitude</th>\n",
       "    </tr>\n",
       "  </thead>\n",
       "  <tbody>\n",
       "    <tr>\n",
       "      <th>0</th>\n",
       "      <td>2011-08-29</td>\n",
       "      <td>6:56:58 PM</td>\n",
       "      <td>42.391623</td>\n",
       "      <td>-88.089163</td>\n",
       "    </tr>\n",
       "    <tr>\n",
       "      <th>1</th>\n",
       "      <td>2011-08-29</td>\n",
       "      <td>6:57:08 PM</td>\n",
       "      <td>42.391348</td>\n",
       "      <td>-88.089163</td>\n",
       "    </tr>\n",
       "    <tr>\n",
       "      <th>2</th>\n",
       "      <td>2011-08-29</td>\n",
       "      <td>6:57:18 PM</td>\n",
       "      <td>42.391022</td>\n",
       "      <td>-88.089157</td>\n",
       "    </tr>\n",
       "    <tr>\n",
       "      <th>3</th>\n",
       "      <td>2011-08-29</td>\n",
       "      <td>6:57:28 PM</td>\n",
       "      <td>42.390637</td>\n",
       "      <td>-88.089158</td>\n",
       "    </tr>\n",
       "    <tr>\n",
       "      <th>4</th>\n",
       "      <td>2011-08-29</td>\n",
       "      <td>6:57:38 PM</td>\n",
       "      <td>42.390410</td>\n",
       "      <td>-88.088858</td>\n",
       "    </tr>\n",
       "  </tbody>\n",
       "</table>\n",
       "</div>"
      ],
      "text/plain": [
       "         date        time   latitude  longitude\n",
       "0  2011-08-29  6:56:58 PM  42.391623 -88.089163\n",
       "1  2011-08-29  6:57:08 PM  42.391348 -88.089163\n",
       "2  2011-08-29  6:57:18 PM  42.391022 -88.089157\n",
       "3  2011-08-29  6:57:28 PM  42.390637 -88.089158\n",
       "4  2011-08-29  6:57:38 PM  42.390410 -88.088858"
      ]
     },
     "execution_count": 18,
     "metadata": {},
     "output_type": "execute_result"
    }
   ],
   "source": [
    "#convert column names to lowercase for easier referencing\n",
    "spray.columns = [col.lower() for col in spray.columns]\n",
    "spray.head()"
   ]
  },
  {
   "cell_type": "code",
   "execution_count": 19,
   "id": "81f340a8-a16b-42a1-b3b2-f0416274e2f1",
   "metadata": {},
   "outputs": [
    {
     "data": {
      "text/plain": [
       "541"
      ]
     },
     "execution_count": 19,
     "metadata": {},
     "output_type": "execute_result"
    }
   ],
   "source": [
    "#check for duplicates\n",
    "spray.duplicated().sum()"
   ]
  },
  {
   "cell_type": "code",
   "execution_count": 20,
   "id": "e446a5e9-d727-4ac1-afd0-c9bb5f4dd592",
   "metadata": {},
   "outputs": [],
   "source": [
    "#drop duplicates\n",
    "spray.drop_duplicates(inplace=True)"
   ]
  },
  {
   "cell_type": "code",
   "execution_count": 21,
   "id": "22515392-30c0-4a8b-882e-d92fbc78edfd",
   "metadata": {},
   "outputs": [
    {
     "data": {
      "text/plain": [
       "date          object\n",
       "time          object\n",
       "latitude     float64\n",
       "longitude    float64\n",
       "dtype: object"
      ]
     },
     "execution_count": 21,
     "metadata": {},
     "output_type": "execute_result"
    }
   ],
   "source": [
    "#check dtypes\n",
    "spray.dtypes"
   ]
  },
  {
   "cell_type": "code",
   "execution_count": 22,
   "id": "4f85d316-1856-462d-8473-0bd15a8a0e56",
   "metadata": {},
   "outputs": [],
   "source": [
    "#convert date to datetime object\n",
    "spray['date'] = pd.to_datetime(spray['date'], format = \"%Y-%m-%d\")"
   ]
  },
  {
   "cell_type": "code",
   "execution_count": 23,
   "id": "e06d72e3-7a2e-4670-8f55-c080387c71a5",
   "metadata": {},
   "outputs": [
    {
     "data": {
      "text/plain": [
       "date           0\n",
       "time         584\n",
       "latitude       0\n",
       "longitude      0\n",
       "dtype: int64"
      ]
     },
     "execution_count": 23,
     "metadata": {},
     "output_type": "execute_result"
    }
   ],
   "source": [
    "#check for null values\n",
    "spray.isnull().sum()"
   ]
  },
  {
   "cell_type": "code",
   "execution_count": 24,
   "id": "21dae3fa-e5ab-460d-86a6-bd191a988622",
   "metadata": {},
   "outputs": [],
   "source": [
    "#drop 'Time' column\n",
    "spray.drop(columns='time', inplace=True)"
   ]
  },
  {
   "cell_type": "markdown",
   "id": "8890ffcc-773b-4191-b55e-9d7824080716",
   "metadata": {},
   "source": [
    "After checking for duplicates and dropping these rows, we checked for missing values and 584 were found in the `'time'` column, which indicates the exact time the spraying was conducted. However, in our main train & test datasets, observations are only by date. Thus, we will be dropping this column. Conveniently, this removes all the null values in this dataset as well.\n",
    "\n",
    "Then, we checked the datatypes of the dataset to see if it corresponds to their respective data. We found that `'date'` column has object datatype. Hence, we convert it to a default format of datetime."
   ]
  },
  {
   "cell_type": "code",
   "execution_count": 25,
   "id": "a69e3d76-7575-4a9b-b2d1-0fe9d114e068",
   "metadata": {},
   "outputs": [
    {
     "name": "stdout",
     "output_type": "stream",
     "text": [
      "Max latitude from train dataset: 42.01743\n",
      "Max longitudefrom train dataset: -87.531635\n",
      "Max latitude from test dataset: 42.01743\n",
      "Max longitude from test dataset: -87.531635\n"
     ]
    }
   ],
   "source": [
    "print(f'Max latitude from train dataset: {train[\"latitude\"].max()}')\n",
    "print(f'Max longitudefrom train dataset: {train[\"longitude\"].max()}')\n",
    "print(f'Max latitude from test dataset: {test[\"latitude\"].max()}')\n",
    "print(f'Max longitude from test dataset: {test[\"longitude\"].max()}')"
   ]
  },
  {
   "cell_type": "code",
   "execution_count": 26,
   "id": "6fb293d4-f0ad-4dfb-82c2-b33ff328d748",
   "metadata": {},
   "outputs": [
    {
     "name": "stdout",
     "output_type": "stream",
     "text": [
      "Min latitude from train dataset: 41.644612\n",
      "Min longitudefrom train dataset: -87.930995\n",
      "Min latitude from test dataset: 41.644612\n",
      "Min longitude from test dataset: -87.930995\n"
     ]
    }
   ],
   "source": [
    "print(f'Min latitude from train dataset: {train[\"latitude\"].min()}')\n",
    "print(f'Min longitudefrom train dataset: {train[\"longitude\"].min()}')\n",
    "print(f'Min latitude from test dataset: {test[\"latitude\"].min()}')\n",
    "print(f'Min longitude from test dataset: {test[\"longitude\"].min()}')"
   ]
  },
  {
   "cell_type": "code",
   "execution_count": 27,
   "id": "f858654e-8fe0-4c86-8e03-4c5e58840365",
   "metadata": {},
   "outputs": [
    {
     "name": "stdout",
     "output_type": "stream",
     "text": [
      "Max latitude from spray dataset: 42.3959833333333\n",
      "Max longitude from spray dataset: -87.5867266666667\n",
      "Min latitude from spray dataset: 41.713925\n",
      "Min longitude from spray dataset: -88.0964683333333\n"
     ]
    }
   ],
   "source": [
    "print(f'Max latitude from spray dataset: {spray[\"latitude\"].max()}')\n",
    "print(f'Max longitude from spray dataset: {spray[\"longitude\"].max()}')\n",
    "print(f'Min latitude from spray dataset: {spray[\"latitude\"].min()}')\n",
    "print(f'Min longitude from spray dataset: {spray[\"longitude\"].min()}')"
   ]
  },
  {
   "cell_type": "code",
   "execution_count": 28,
   "id": "2a434432-b3d3-42aa-926b-de3169a04845",
   "metadata": {},
   "outputs": [
    {
     "data": {
      "text/plain": [
       "(14294, 3)"
      ]
     },
     "execution_count": 28,
     "metadata": {},
     "output_type": "execute_result"
    }
   ],
   "source": [
    "spray.shape"
   ]
  },
  {
   "cell_type": "code",
   "execution_count": 29,
   "id": "53e711c5-b85d-4b81-90bd-83c21ddd0389",
   "metadata": {},
   "outputs": [],
   "source": [
    "spray = spray[(spray['latitude'] <= 42.01743)]\n",
    "spray = spray[(spray['latitude'] >= 41.644612)]\n",
    "spray = spray[(spray['longitude'] <= -87.531635)]\n",
    "spray = spray[(spray['longitude'] >= -87.930995)]"
   ]
  },
  {
   "cell_type": "code",
   "execution_count": 30,
   "id": "01f1c7cb-8034-4746-a6e5-072f9291788c",
   "metadata": {},
   "outputs": [
    {
     "data": {
      "text/plain": [
       "(14145, 3)"
      ]
     },
     "execution_count": 30,
     "metadata": {},
     "output_type": "execute_result"
    }
   ],
   "source": [
    "spray.shape"
   ]
  },
  {
   "cell_type": "markdown",
   "id": "1d7610a4-2c00-4151-9488-3cf0488e5eb1",
   "metadata": {},
   "source": [
    "We also checked for the locations in which sprays were administered. Based on the comparison with both train and test datasets, we realised that locations sprayed can be beyond the area of the train and test datasets. We streamlined the dataset by removing them. Hence, the number of rows was further dropped from 14294 to 14145."
   ]
  },
  {
   "cell_type": "markdown",
   "id": "8e318c2e-50f5-4f6a-83d7-3a41795c32ed",
   "metadata": {
    "tags": []
   },
   "source": [
    "### Weather Dataset"
   ]
  },
  {
   "cell_type": "code",
   "execution_count": 31,
   "id": "7e245111-a6a9-4276-a506-c010967ceb62",
   "metadata": {
    "scrolled": true,
    "tags": []
   },
   "outputs": [
    {
     "name": "stdout",
     "output_type": "stream",
     "text": [
      "(2944, 22)\n"
     ]
    },
    {
     "data": {
      "text/html": [
       "<div>\n",
       "<style scoped>\n",
       "    .dataframe tbody tr th:only-of-type {\n",
       "        vertical-align: middle;\n",
       "    }\n",
       "\n",
       "    .dataframe tbody tr th {\n",
       "        vertical-align: top;\n",
       "    }\n",
       "\n",
       "    .dataframe thead th {\n",
       "        text-align: right;\n",
       "    }\n",
       "</style>\n",
       "<table border=\"1\" class=\"dataframe\">\n",
       "  <thead>\n",
       "    <tr style=\"text-align: right;\">\n",
       "      <th></th>\n",
       "      <th>Station</th>\n",
       "      <th>Date</th>\n",
       "      <th>Tmax</th>\n",
       "      <th>Tmin</th>\n",
       "      <th>Tavg</th>\n",
       "      <th>Depart</th>\n",
       "      <th>DewPoint</th>\n",
       "      <th>WetBulb</th>\n",
       "      <th>Heat</th>\n",
       "      <th>Cool</th>\n",
       "      <th>Sunrise</th>\n",
       "      <th>Sunset</th>\n",
       "      <th>CodeSum</th>\n",
       "      <th>Depth</th>\n",
       "      <th>Water1</th>\n",
       "      <th>SnowFall</th>\n",
       "      <th>PrecipTotal</th>\n",
       "      <th>StnPressure</th>\n",
       "      <th>SeaLevel</th>\n",
       "      <th>ResultSpeed</th>\n",
       "      <th>ResultDir</th>\n",
       "      <th>AvgSpeed</th>\n",
       "    </tr>\n",
       "  </thead>\n",
       "  <tbody>\n",
       "    <tr>\n",
       "      <th>0</th>\n",
       "      <td>1</td>\n",
       "      <td>2007-05-01</td>\n",
       "      <td>83</td>\n",
       "      <td>50</td>\n",
       "      <td>67</td>\n",
       "      <td>14</td>\n",
       "      <td>51</td>\n",
       "      <td>56</td>\n",
       "      <td>0</td>\n",
       "      <td>2</td>\n",
       "      <td>0448</td>\n",
       "      <td>1849</td>\n",
       "      <td></td>\n",
       "      <td>0</td>\n",
       "      <td>M</td>\n",
       "      <td>0.0</td>\n",
       "      <td>0.00</td>\n",
       "      <td>29.10</td>\n",
       "      <td>29.82</td>\n",
       "      <td>1.7</td>\n",
       "      <td>27</td>\n",
       "      <td>9.2</td>\n",
       "    </tr>\n",
       "    <tr>\n",
       "      <th>1</th>\n",
       "      <td>2</td>\n",
       "      <td>2007-05-01</td>\n",
       "      <td>84</td>\n",
       "      <td>52</td>\n",
       "      <td>68</td>\n",
       "      <td>M</td>\n",
       "      <td>51</td>\n",
       "      <td>57</td>\n",
       "      <td>0</td>\n",
       "      <td>3</td>\n",
       "      <td>-</td>\n",
       "      <td>-</td>\n",
       "      <td></td>\n",
       "      <td>M</td>\n",
       "      <td>M</td>\n",
       "      <td>M</td>\n",
       "      <td>0.00</td>\n",
       "      <td>29.18</td>\n",
       "      <td>29.82</td>\n",
       "      <td>2.7</td>\n",
       "      <td>25</td>\n",
       "      <td>9.6</td>\n",
       "    </tr>\n",
       "    <tr>\n",
       "      <th>2</th>\n",
       "      <td>1</td>\n",
       "      <td>2007-05-02</td>\n",
       "      <td>59</td>\n",
       "      <td>42</td>\n",
       "      <td>51</td>\n",
       "      <td>-3</td>\n",
       "      <td>42</td>\n",
       "      <td>47</td>\n",
       "      <td>14</td>\n",
       "      <td>0</td>\n",
       "      <td>0447</td>\n",
       "      <td>1850</td>\n",
       "      <td>BR</td>\n",
       "      <td>0</td>\n",
       "      <td>M</td>\n",
       "      <td>0.0</td>\n",
       "      <td>0.00</td>\n",
       "      <td>29.38</td>\n",
       "      <td>30.09</td>\n",
       "      <td>13.0</td>\n",
       "      <td>4</td>\n",
       "      <td>13.4</td>\n",
       "    </tr>\n",
       "    <tr>\n",
       "      <th>3</th>\n",
       "      <td>2</td>\n",
       "      <td>2007-05-02</td>\n",
       "      <td>60</td>\n",
       "      <td>43</td>\n",
       "      <td>52</td>\n",
       "      <td>M</td>\n",
       "      <td>42</td>\n",
       "      <td>47</td>\n",
       "      <td>13</td>\n",
       "      <td>0</td>\n",
       "      <td>-</td>\n",
       "      <td>-</td>\n",
       "      <td>BR HZ</td>\n",
       "      <td>M</td>\n",
       "      <td>M</td>\n",
       "      <td>M</td>\n",
       "      <td>0.00</td>\n",
       "      <td>29.44</td>\n",
       "      <td>30.08</td>\n",
       "      <td>13.3</td>\n",
       "      <td>2</td>\n",
       "      <td>13.4</td>\n",
       "    </tr>\n",
       "    <tr>\n",
       "      <th>4</th>\n",
       "      <td>1</td>\n",
       "      <td>2007-05-03</td>\n",
       "      <td>66</td>\n",
       "      <td>46</td>\n",
       "      <td>56</td>\n",
       "      <td>2</td>\n",
       "      <td>40</td>\n",
       "      <td>48</td>\n",
       "      <td>9</td>\n",
       "      <td>0</td>\n",
       "      <td>0446</td>\n",
       "      <td>1851</td>\n",
       "      <td></td>\n",
       "      <td>0</td>\n",
       "      <td>M</td>\n",
       "      <td>0.0</td>\n",
       "      <td>0.00</td>\n",
       "      <td>29.39</td>\n",
       "      <td>30.12</td>\n",
       "      <td>11.7</td>\n",
       "      <td>7</td>\n",
       "      <td>11.9</td>\n",
       "    </tr>\n",
       "  </tbody>\n",
       "</table>\n",
       "</div>"
      ],
      "text/plain": [
       "   Station        Date  Tmax  Tmin Tavg Depart  DewPoint WetBulb Heat Cool  \\\n",
       "0        1  2007-05-01    83    50   67     14        51      56    0    2   \n",
       "1        2  2007-05-01    84    52   68      M        51      57    0    3   \n",
       "2        1  2007-05-02    59    42   51     -3        42      47   14    0   \n",
       "3        2  2007-05-02    60    43   52      M        42      47   13    0   \n",
       "4        1  2007-05-03    66    46   56      2        40      48    9    0   \n",
       "\n",
       "  Sunrise Sunset CodeSum Depth Water1 SnowFall PrecipTotal StnPressure  \\\n",
       "0    0448   1849             0      M      0.0        0.00       29.10   \n",
       "1       -      -             M      M        M        0.00       29.18   \n",
       "2    0447   1850      BR     0      M      0.0        0.00       29.38   \n",
       "3       -      -   BR HZ     M      M        M        0.00       29.44   \n",
       "4    0446   1851             0      M      0.0        0.00       29.39   \n",
       "\n",
       "  SeaLevel  ResultSpeed  ResultDir AvgSpeed  \n",
       "0    29.82          1.7         27      9.2  \n",
       "1    29.82          2.7         25      9.6  \n",
       "2    30.09         13.0          4     13.4  \n",
       "3    30.08         13.3          2     13.4  \n",
       "4    30.12         11.7          7     11.9  "
      ]
     },
     "execution_count": 31,
     "metadata": {},
     "output_type": "execute_result"
    }
   ],
   "source": [
    "#checking\n",
    "print(weather.shape)\n",
    "weather.head()"
   ]
  },
  {
   "cell_type": "code",
   "execution_count": 32,
   "id": "eea5224b-9d2d-4f8e-9711-5a2b8d03d7f0",
   "metadata": {},
   "outputs": [
    {
     "data": {
      "text/html": [
       "<div>\n",
       "<style scoped>\n",
       "    .dataframe tbody tr th:only-of-type {\n",
       "        vertical-align: middle;\n",
       "    }\n",
       "\n",
       "    .dataframe tbody tr th {\n",
       "        vertical-align: top;\n",
       "    }\n",
       "\n",
       "    .dataframe thead th {\n",
       "        text-align: right;\n",
       "    }\n",
       "</style>\n",
       "<table border=\"1\" class=\"dataframe\">\n",
       "  <thead>\n",
       "    <tr style=\"text-align: right;\">\n",
       "      <th></th>\n",
       "      <th>station</th>\n",
       "      <th>date</th>\n",
       "      <th>tmax</th>\n",
       "      <th>tmin</th>\n",
       "      <th>tavg</th>\n",
       "      <th>depart</th>\n",
       "      <th>dewpoint</th>\n",
       "      <th>wetbulb</th>\n",
       "      <th>heat</th>\n",
       "      <th>cool</th>\n",
       "      <th>sunrise</th>\n",
       "      <th>sunset</th>\n",
       "      <th>codesum</th>\n",
       "      <th>depth</th>\n",
       "      <th>water1</th>\n",
       "      <th>snowfall</th>\n",
       "      <th>preciptotal</th>\n",
       "      <th>stnpressure</th>\n",
       "      <th>sealevel</th>\n",
       "      <th>resultspeed</th>\n",
       "      <th>resultdir</th>\n",
       "      <th>avgspeed</th>\n",
       "    </tr>\n",
       "  </thead>\n",
       "  <tbody>\n",
       "    <tr>\n",
       "      <th>0</th>\n",
       "      <td>1</td>\n",
       "      <td>2007-05-01</td>\n",
       "      <td>83</td>\n",
       "      <td>50</td>\n",
       "      <td>67</td>\n",
       "      <td>14</td>\n",
       "      <td>51</td>\n",
       "      <td>56</td>\n",
       "      <td>0</td>\n",
       "      <td>2</td>\n",
       "      <td>0448</td>\n",
       "      <td>1849</td>\n",
       "      <td></td>\n",
       "      <td>0</td>\n",
       "      <td>M</td>\n",
       "      <td>0.0</td>\n",
       "      <td>0.00</td>\n",
       "      <td>29.10</td>\n",
       "      <td>29.82</td>\n",
       "      <td>1.7</td>\n",
       "      <td>27</td>\n",
       "      <td>9.2</td>\n",
       "    </tr>\n",
       "    <tr>\n",
       "      <th>1</th>\n",
       "      <td>2</td>\n",
       "      <td>2007-05-01</td>\n",
       "      <td>84</td>\n",
       "      <td>52</td>\n",
       "      <td>68</td>\n",
       "      <td>M</td>\n",
       "      <td>51</td>\n",
       "      <td>57</td>\n",
       "      <td>0</td>\n",
       "      <td>3</td>\n",
       "      <td>-</td>\n",
       "      <td>-</td>\n",
       "      <td></td>\n",
       "      <td>M</td>\n",
       "      <td>M</td>\n",
       "      <td>M</td>\n",
       "      <td>0.00</td>\n",
       "      <td>29.18</td>\n",
       "      <td>29.82</td>\n",
       "      <td>2.7</td>\n",
       "      <td>25</td>\n",
       "      <td>9.6</td>\n",
       "    </tr>\n",
       "    <tr>\n",
       "      <th>2</th>\n",
       "      <td>1</td>\n",
       "      <td>2007-05-02</td>\n",
       "      <td>59</td>\n",
       "      <td>42</td>\n",
       "      <td>51</td>\n",
       "      <td>-3</td>\n",
       "      <td>42</td>\n",
       "      <td>47</td>\n",
       "      <td>14</td>\n",
       "      <td>0</td>\n",
       "      <td>0447</td>\n",
       "      <td>1850</td>\n",
       "      <td>BR</td>\n",
       "      <td>0</td>\n",
       "      <td>M</td>\n",
       "      <td>0.0</td>\n",
       "      <td>0.00</td>\n",
       "      <td>29.38</td>\n",
       "      <td>30.09</td>\n",
       "      <td>13.0</td>\n",
       "      <td>4</td>\n",
       "      <td>13.4</td>\n",
       "    </tr>\n",
       "    <tr>\n",
       "      <th>3</th>\n",
       "      <td>2</td>\n",
       "      <td>2007-05-02</td>\n",
       "      <td>60</td>\n",
       "      <td>43</td>\n",
       "      <td>52</td>\n",
       "      <td>M</td>\n",
       "      <td>42</td>\n",
       "      <td>47</td>\n",
       "      <td>13</td>\n",
       "      <td>0</td>\n",
       "      <td>-</td>\n",
       "      <td>-</td>\n",
       "      <td>BR HZ</td>\n",
       "      <td>M</td>\n",
       "      <td>M</td>\n",
       "      <td>M</td>\n",
       "      <td>0.00</td>\n",
       "      <td>29.44</td>\n",
       "      <td>30.08</td>\n",
       "      <td>13.3</td>\n",
       "      <td>2</td>\n",
       "      <td>13.4</td>\n",
       "    </tr>\n",
       "    <tr>\n",
       "      <th>4</th>\n",
       "      <td>1</td>\n",
       "      <td>2007-05-03</td>\n",
       "      <td>66</td>\n",
       "      <td>46</td>\n",
       "      <td>56</td>\n",
       "      <td>2</td>\n",
       "      <td>40</td>\n",
       "      <td>48</td>\n",
       "      <td>9</td>\n",
       "      <td>0</td>\n",
       "      <td>0446</td>\n",
       "      <td>1851</td>\n",
       "      <td></td>\n",
       "      <td>0</td>\n",
       "      <td>M</td>\n",
       "      <td>0.0</td>\n",
       "      <td>0.00</td>\n",
       "      <td>29.39</td>\n",
       "      <td>30.12</td>\n",
       "      <td>11.7</td>\n",
       "      <td>7</td>\n",
       "      <td>11.9</td>\n",
       "    </tr>\n",
       "  </tbody>\n",
       "</table>\n",
       "</div>"
      ],
      "text/plain": [
       "   station        date  tmax  tmin tavg depart  dewpoint wetbulb heat cool  \\\n",
       "0        1  2007-05-01    83    50   67     14        51      56    0    2   \n",
       "1        2  2007-05-01    84    52   68      M        51      57    0    3   \n",
       "2        1  2007-05-02    59    42   51     -3        42      47   14    0   \n",
       "3        2  2007-05-02    60    43   52      M        42      47   13    0   \n",
       "4        1  2007-05-03    66    46   56      2        40      48    9    0   \n",
       "\n",
       "  sunrise sunset codesum depth water1 snowfall preciptotal stnpressure  \\\n",
       "0    0448   1849             0      M      0.0        0.00       29.10   \n",
       "1       -      -             M      M        M        0.00       29.18   \n",
       "2    0447   1850      BR     0      M      0.0        0.00       29.38   \n",
       "3       -      -   BR HZ     M      M        M        0.00       29.44   \n",
       "4    0446   1851             0      M      0.0        0.00       29.39   \n",
       "\n",
       "  sealevel  resultspeed  resultdir avgspeed  \n",
       "0    29.82          1.7         27      9.2  \n",
       "1    29.82          2.7         25      9.6  \n",
       "2    30.09         13.0          4     13.4  \n",
       "3    30.08         13.3          2     13.4  \n",
       "4    30.12         11.7          7     11.9  "
      ]
     },
     "execution_count": 32,
     "metadata": {},
     "output_type": "execute_result"
    }
   ],
   "source": [
    "#convert column names to lowercase for easier referencing\n",
    "weather.columns = [col.lower() for col in weather.columns]\n",
    "weather.head()"
   ]
  },
  {
   "cell_type": "code",
   "execution_count": 33,
   "id": "d20ce866-0ad3-4239-b025-1b67507f1346",
   "metadata": {},
   "outputs": [
    {
     "data": {
      "text/plain": [
       "0"
      ]
     },
     "execution_count": 33,
     "metadata": {},
     "output_type": "execute_result"
    }
   ],
   "source": [
    "#check for duplicates\n",
    "weather.duplicated().sum()"
   ]
  },
  {
   "cell_type": "code",
   "execution_count": 34,
   "id": "387404b5-452c-4dd3-9b3e-9d9603cb2a3a",
   "metadata": {},
   "outputs": [
    {
     "data": {
      "text/plain": [
       "station          int64\n",
       "date            object\n",
       "tmax             int64\n",
       "tmin             int64\n",
       "tavg            object\n",
       "depart          object\n",
       "dewpoint         int64\n",
       "wetbulb         object\n",
       "heat            object\n",
       "cool            object\n",
       "sunrise         object\n",
       "sunset          object\n",
       "codesum         object\n",
       "depth           object\n",
       "water1          object\n",
       "snowfall        object\n",
       "preciptotal     object\n",
       "stnpressure     object\n",
       "sealevel        object\n",
       "resultspeed    float64\n",
       "resultdir        int64\n",
       "avgspeed        object\n",
       "dtype: object"
      ]
     },
     "execution_count": 34,
     "metadata": {},
     "output_type": "execute_result"
    }
   ],
   "source": [
    "#check dtypes\n",
    "weather.dtypes"
   ]
  },
  {
   "cell_type": "code",
   "execution_count": 35,
   "id": "664aab05-704b-4f0d-bd90-2037426b4f76",
   "metadata": {},
   "outputs": [],
   "source": [
    "#convert date to datetime object\n",
    "weather['date'] = pd.to_datetime(weather['date'], format = \"%Y-%m-%d\")"
   ]
  },
  {
   "cell_type": "code",
   "execution_count": 36,
   "id": "c7369905-2550-4a2d-bda5-99f04bc46538",
   "metadata": {},
   "outputs": [
    {
     "data": {
      "text/plain": [
       "station        0\n",
       "date           0\n",
       "tmax           0\n",
       "tmin           0\n",
       "tavg           0\n",
       "depart         0\n",
       "dewpoint       0\n",
       "wetbulb        0\n",
       "heat           0\n",
       "cool           0\n",
       "sunrise        0\n",
       "sunset         0\n",
       "codesum        0\n",
       "depth          0\n",
       "water1         0\n",
       "snowfall       0\n",
       "preciptotal    0\n",
       "stnpressure    0\n",
       "sealevel       0\n",
       "resultspeed    0\n",
       "resultdir      0\n",
       "avgspeed       0\n",
       "dtype: int64"
      ]
     },
     "execution_count": 36,
     "metadata": {},
     "output_type": "execute_result"
    }
   ],
   "source": [
    "#check for null values\n",
    "weather.isnull().sum()"
   ]
  },
  {
   "cell_type": "markdown",
   "id": "b606f0b4-0bf7-4aa8-868c-6f7739b613dc",
   "metadata": {},
   "source": [
    "After checking for duplicates (none was found) and datatypes, it seems like the date is classified as 'object', similar to the spray dataset. It was then converted to default format of datetime. As for missing values, it seems that there is none. However for missing values, we see from the dataset, there are non-imputed rows in some columns, for example `'codesum'`. Even though a null check was done and showed no missing values, it only checks for null values. Furthermore, upon checking the data dictionary for this dataset, missing data is also showed as:\n",
    "* 'M' = Missing Data, or data that are not normally reported for the station.\n",
    "* '-' = Values not available for sunrise/sunset. \n",
    "* 'T' = Trace amount of data (unable to quantify).\n",
    "\n",
    "Thus, we must check for these imputed values and also non-imputed values (represented by `''` or `' '` in code)."
   ]
  },
  {
   "cell_type": "code",
   "execution_count": 37,
   "id": "f1abc125-0eea-4c4a-acdc-8256b9c5b657",
   "metadata": {},
   "outputs": [
    {
     "data": {
      "text/plain": [
       "water1         2944\n",
       "codesum        1609\n",
       "sunset         1472\n",
       "depth          1472\n",
       "depart         1472\n",
       "snowfall       1472\n",
       "sunrise        1472\n",
       "tavg             11\n",
       "heat             11\n",
       "cool             11\n",
       "sealevel          9\n",
       "stnpressure       4\n",
       "wetbulb           4\n",
       "avgspeed          3\n",
       "preciptotal       2\n",
       "date              0\n",
       "dewpoint          0\n",
       "tmin              0\n",
       "tmax              0\n",
       "resultspeed       0\n",
       "resultdir         0\n",
       "station           0\n",
       "dtype: int64"
      ]
     },
     "execution_count": 37,
     "metadata": {},
     "output_type": "execute_result"
    }
   ],
   "source": [
    "#checking for missing data and non-imputed values\n",
    "weather.isin(['M', '-', 'T', '', ' ']).sum().sort_values(ascending=False)"
   ]
  },
  {
   "cell_type": "code",
   "execution_count": 38,
   "id": "e4d84637-4387-4ca0-b457-bfb456d47f4a",
   "metadata": {},
   "outputs": [
    {
     "data": {
      "text/plain": [
       "station\n",
       "1          1472\n",
       "2          1472\n",
       "dtype: int64"
      ]
     },
     "execution_count": 38,
     "metadata": {},
     "output_type": "execute_result"
    }
   ],
   "source": [
    "#checking on how many stations\n",
    "weather[['station']].value_counts()"
   ]
  },
  {
   "cell_type": "code",
   "execution_count": 39,
   "id": "3dc2dd48-3071-40e0-8b2c-f58cde073d3a",
   "metadata": {},
   "outputs": [
    {
     "data": {
      "text/plain": [
       "station  water1\n",
       "1        M         1472\n",
       "2        M         1472\n",
       "Name: water1, dtype: int64"
      ]
     },
     "execution_count": 39,
     "metadata": {},
     "output_type": "execute_result"
    }
   ],
   "source": [
    "#check on water1\n",
    "weather.groupby('station')['water1'].value_counts()"
   ]
  },
  {
   "cell_type": "code",
   "execution_count": 40,
   "id": "ad5ee73a-c837-4053-b28f-36f337ed3647",
   "metadata": {},
   "outputs": [
    {
     "data": {
      "text/plain": [
       "station  codesum           \n",
       "1                              805\n",
       "         RA                    161\n",
       "         RA BR                 128\n",
       "         BR                     66\n",
       "         TSRA RA BR             48\n",
       "                              ... \n",
       "2        TSRA RA BR HZ VCTS      1\n",
       "         TSRA RA FG+ BR          1\n",
       "         TSRA RA FG+ FG BR       1\n",
       "         TSRA RA HZ FU           1\n",
       "         TSRA RA VCTS            1\n",
       "Name: codesum, Length: 140, dtype: int64"
      ]
     },
     "execution_count": 40,
     "metadata": {},
     "output_type": "execute_result"
    }
   ],
   "source": [
    "#check on codesum\n",
    "weather.groupby('station')['codesum'].value_counts()"
   ]
  },
  {
   "cell_type": "code",
   "execution_count": 41,
   "id": "416e7269-61dd-42b6-9a5d-34db52bef573",
   "metadata": {},
   "outputs": [
    {
     "data": {
      "text/plain": [
       "station  sunset\n",
       "1        1931        96\n",
       "         1930        56\n",
       "         1929        48\n",
       "         1923        32\n",
       "         1925        32\n",
       "                   ... \n",
       "         1900         8\n",
       "         1901         8\n",
       "         1905         8\n",
       "         1912         8\n",
       "2        -         1472\n",
       "Name: sunset, Length: 119, dtype: int64"
      ]
     },
     "execution_count": 41,
     "metadata": {},
     "output_type": "execute_result"
    }
   ],
   "source": [
    "#check on sunset\n",
    "weather.groupby('station')['sunset'].value_counts()"
   ]
  },
  {
   "cell_type": "code",
   "execution_count": 42,
   "id": "e97ef3cf-3e8d-422e-a672-1d9b1b3092b9",
   "metadata": {},
   "outputs": [
    {
     "data": {
      "text/plain": [
       "station  sunrise\n",
       "1        0416        104\n",
       "         0417         64\n",
       "         0419         40\n",
       "         0418         32\n",
       "         0420         32\n",
       "                    ... \n",
       "         0619          8\n",
       "         0620          8\n",
       "         0622          8\n",
       "         0623          8\n",
       "2        -          1472\n",
       "Name: sunrise, Length: 122, dtype: int64"
      ]
     },
     "execution_count": 42,
     "metadata": {},
     "output_type": "execute_result"
    }
   ],
   "source": [
    "#check on sunrise\n",
    "weather.groupby('station')['sunrise'].value_counts()"
   ]
  },
  {
   "cell_type": "code",
   "execution_count": 43,
   "id": "797a4fca-ca18-49f2-99d8-6da8babc5b0f",
   "metadata": {},
   "outputs": [
    {
     "data": {
      "text/plain": [
       "station  depth\n",
       "1        0        1472\n",
       "2        M        1472\n",
       "Name: depth, dtype: int64"
      ]
     },
     "execution_count": 43,
     "metadata": {},
     "output_type": "execute_result"
    }
   ],
   "source": [
    "#check on depth\n",
    "weather.groupby('station')['depth'].value_counts()"
   ]
  },
  {
   "cell_type": "code",
   "execution_count": 44,
   "id": "40a59948-bbf0-425b-9c84-fb8f0ceb204f",
   "metadata": {},
   "outputs": [
    {
     "data": {
      "text/plain": [
       "station  depart\n",
       "1         2          93\n",
       "         -1          84\n",
       "         -2          80\n",
       "          5          77\n",
       "          1          76\n",
       "          7          76\n",
       "          3          75\n",
       "          0          74\n",
       "         -3          72\n",
       "          4          71\n",
       "          6          67\n",
       "          8          59\n",
       "         -5          57\n",
       "         -4          56\n",
       "         -6          50\n",
       "          9          47\n",
       "         10          46\n",
       "         -8          43\n",
       "         -7          30\n",
       "         11          28\n",
       "         12          28\n",
       "         -9          25\n",
       "         13          23\n",
       "         -10         22\n",
       "         14          22\n",
       "         15          15\n",
       "         16          12\n",
       "         -11         10\n",
       "         -12          8\n",
       "         17           7\n",
       "         -14          6\n",
       "         18           6\n",
       "         -13          5\n",
       "         19           4\n",
       "         20           4\n",
       "         -15          3\n",
       "         -16          3\n",
       "         22           3\n",
       "         -17          2\n",
       "         21           2\n",
       "         23           1\n",
       "2        M         1472\n",
       "Name: depart, dtype: int64"
      ]
     },
     "execution_count": 44,
     "metadata": {},
     "output_type": "execute_result"
    }
   ],
   "source": [
    "#check on depart\n",
    "weather.groupby('station')['depart'].value_counts()"
   ]
  },
  {
   "cell_type": "markdown",
   "id": "5d0a6c0c-954b-4f9b-8ea7-1a25ba68b1e7",
   "metadata": {},
   "source": [
    "From the data dictionary, the first tell-tale sign for the reason for such a high rate of missing values/data is the difference in data extraction from different stations. AWOS stations will often have less data (i.e., fewer weather elements) than ASOS station. Also, it is also stated that \"not all stations report snow totals\" in the documentation. Since this was the case, we groupby the columns with the high missing values to the `'station'` column. From there, we can see that station 2 has most of the missing values. These are the next steps in handling the columns with the large missing values:\n",
    "\n",
    "1) Dropping these features:\n",
    "* `'water1'`, `'depth'` and `'snowfall'` as the they either consist of all missing data or are imputed as 0 value which does not provide any meaningful information.\n",
    "* `'sunset'`, `'sunrise'` and `'codesum'` as weather and time will not be a focus in our project.\n",
    "* `'depart'` as departure of temperature from historical norm is unlikely to affect mosquitos population.\n",
    "* `'heat'` and `'cool'` as these variables are more relevant for calculating energy needs for electrical, natural gas, power, and heating, and air conditioning industries, i.e. not as relevant to risk of mosquito breeding.\n",
    "* `'wetbulb'` as `'dewpoint'` will be the effective proxy of the humidity conditions.\n",
    "\n",
    "2) Impute `'avgspeed'` with observations from other stations and impute mean of `'tmax'` & `'tmin'` for `'tavg'` feature.\n",
    "\n",
    "3) Impute `'stnpressure'` and `'sealevel'` from previous and next day values as not much will change.\n",
    "\n",
    "4) Dropping rows of `'preciptotal'` since data accounts for less than 1% of dataset."
   ]
  },
  {
   "cell_type": "code",
   "execution_count": 45,
   "id": "14474e90-693a-4aaf-bbea-71f90e4427e1",
   "metadata": {},
   "outputs": [],
   "source": [
    "# 1: dropping water1, depth and snowfall\n",
    "weather.drop(columns=['water1', 'depth', 'snowfall','sunrise', 'sunset', 'codesum', 'depart', 'heat','cool','wetbulb'], inplace=True)"
   ]
  },
  {
   "cell_type": "code",
   "execution_count": 46,
   "id": "a1e719a0-25f8-4de6-978d-47366bd7d3ae",
   "metadata": {},
   "outputs": [],
   "source": [
    "#impute tavg and avgspeed\n",
    "def impute_tavg_avgspeed(row):\n",
    "    #impute tavg with mean of tmax & tmin\n",
    "    if row['tavg'] == 'M':\n",
    "        row['tavg'] = round((row['tmax'] + row['tmin']) / 2)\n",
    "    \n",
    "    #impute avgspeed with observations from other \n",
    "    if row['avgspeed'] == 'M':\n",
    "        row['avgspeed'] = weather.loc[\n",
    "            (weather['date'] == row['date']) & \n",
    "            (weather['station'] == 1), \n",
    "            'avgspeed'].values[0]\n",
    "    return row"
   ]
  },
  {
   "cell_type": "code",
   "execution_count": 47,
   "id": "3845c5c0-7a58-4dfe-b029-a24e660fa5f6",
   "metadata": {},
   "outputs": [],
   "source": [
    "weather = weather.apply(impute_tavg_avgspeed, axis=1)"
   ]
  },
  {
   "cell_type": "code",
   "execution_count": 48,
   "id": "7bcd6944-a92c-4ecf-ab7f-b9315170f5fa",
   "metadata": {},
   "outputs": [],
   "source": [
    "#impute stnpressure and sealevel \n",
    "def impute_values(df):\n",
    "    #impute stnpressure by interpolating from previous & next day values\n",
    "    for index, row in df.loc[df['stnpressure'].isin(['M'])].iterrows():\n",
    "        inter = (float(df.iloc[(index - 2)]['stnpressure']) + \\\n",
    "                 float(df.iloc[(index + 2)]['stnpressure'])) / 2\n",
    "        df.at[index, 'stnpressure'] = round(inter, 2)\n",
    "\n",
    "    #impute sealevel by interpolating from previous & next day values\n",
    "    for index, row in df.loc[df['sealevel'].isin(['M'])].iterrows():\n",
    "        inter = (float(df.iloc[(index - 2)]['sealevel']) + \\\n",
    "                 float(df.iloc[(index + 2)]['sealevel'])) / 2\n",
    "        df.at[index, 'sealevel'] = round(inter, 2)    "
   ]
  },
  {
   "cell_type": "code",
   "execution_count": 49,
   "id": "bb514e38-9553-45ce-81b0-93288315788d",
   "metadata": {},
   "outputs": [],
   "source": [
    "impute_values(weather)"
   ]
  },
  {
   "cell_type": "code",
   "execution_count": 50,
   "id": "134165ad-6529-41ef-a272-c901b3e6f3d8",
   "metadata": {},
   "outputs": [
    {
     "name": "stdout",
     "output_type": "stream",
     "text": [
      "(2942, 12)\n"
     ]
    },
    {
     "data": {
      "text/html": [
       "<div>\n",
       "<style scoped>\n",
       "    .dataframe tbody tr th:only-of-type {\n",
       "        vertical-align: middle;\n",
       "    }\n",
       "\n",
       "    .dataframe tbody tr th {\n",
       "        vertical-align: top;\n",
       "    }\n",
       "\n",
       "    .dataframe thead th {\n",
       "        text-align: right;\n",
       "    }\n",
       "</style>\n",
       "<table border=\"1\" class=\"dataframe\">\n",
       "  <thead>\n",
       "    <tr style=\"text-align: right;\">\n",
       "      <th></th>\n",
       "      <th>station</th>\n",
       "      <th>date</th>\n",
       "      <th>tmax</th>\n",
       "      <th>tmin</th>\n",
       "      <th>tavg</th>\n",
       "      <th>dewpoint</th>\n",
       "      <th>preciptotal</th>\n",
       "      <th>stnpressure</th>\n",
       "      <th>sealevel</th>\n",
       "      <th>resultspeed</th>\n",
       "      <th>resultdir</th>\n",
       "      <th>avgspeed</th>\n",
       "    </tr>\n",
       "  </thead>\n",
       "  <tbody>\n",
       "    <tr>\n",
       "      <th>0</th>\n",
       "      <td>1</td>\n",
       "      <td>2007-05-01</td>\n",
       "      <td>83</td>\n",
       "      <td>50</td>\n",
       "      <td>67</td>\n",
       "      <td>51</td>\n",
       "      <td>0.00</td>\n",
       "      <td>29.10</td>\n",
       "      <td>29.82</td>\n",
       "      <td>1.7</td>\n",
       "      <td>27</td>\n",
       "      <td>9.2</td>\n",
       "    </tr>\n",
       "    <tr>\n",
       "      <th>1</th>\n",
       "      <td>2</td>\n",
       "      <td>2007-05-01</td>\n",
       "      <td>84</td>\n",
       "      <td>52</td>\n",
       "      <td>68</td>\n",
       "      <td>51</td>\n",
       "      <td>0.00</td>\n",
       "      <td>29.18</td>\n",
       "      <td>29.82</td>\n",
       "      <td>2.7</td>\n",
       "      <td>25</td>\n",
       "      <td>9.6</td>\n",
       "    </tr>\n",
       "    <tr>\n",
       "      <th>2</th>\n",
       "      <td>1</td>\n",
       "      <td>2007-05-02</td>\n",
       "      <td>59</td>\n",
       "      <td>42</td>\n",
       "      <td>51</td>\n",
       "      <td>42</td>\n",
       "      <td>0.00</td>\n",
       "      <td>29.38</td>\n",
       "      <td>30.09</td>\n",
       "      <td>13.0</td>\n",
       "      <td>4</td>\n",
       "      <td>13.4</td>\n",
       "    </tr>\n",
       "    <tr>\n",
       "      <th>3</th>\n",
       "      <td>2</td>\n",
       "      <td>2007-05-02</td>\n",
       "      <td>60</td>\n",
       "      <td>43</td>\n",
       "      <td>52</td>\n",
       "      <td>42</td>\n",
       "      <td>0.00</td>\n",
       "      <td>29.44</td>\n",
       "      <td>30.08</td>\n",
       "      <td>13.3</td>\n",
       "      <td>2</td>\n",
       "      <td>13.4</td>\n",
       "    </tr>\n",
       "    <tr>\n",
       "      <th>4</th>\n",
       "      <td>1</td>\n",
       "      <td>2007-05-03</td>\n",
       "      <td>66</td>\n",
       "      <td>46</td>\n",
       "      <td>56</td>\n",
       "      <td>40</td>\n",
       "      <td>0.00</td>\n",
       "      <td>29.39</td>\n",
       "      <td>30.12</td>\n",
       "      <td>11.7</td>\n",
       "      <td>7</td>\n",
       "      <td>11.9</td>\n",
       "    </tr>\n",
       "    <tr>\n",
       "      <th>...</th>\n",
       "      <td>...</td>\n",
       "      <td>...</td>\n",
       "      <td>...</td>\n",
       "      <td>...</td>\n",
       "      <td>...</td>\n",
       "      <td>...</td>\n",
       "      <td>...</td>\n",
       "      <td>...</td>\n",
       "      <td>...</td>\n",
       "      <td>...</td>\n",
       "      <td>...</td>\n",
       "      <td>...</td>\n",
       "    </tr>\n",
       "    <tr>\n",
       "      <th>2939</th>\n",
       "      <td>2</td>\n",
       "      <td>2014-10-29</td>\n",
       "      <td>49</td>\n",
       "      <td>40</td>\n",
       "      <td>45</td>\n",
       "      <td>34</td>\n",
       "      <td>0.00</td>\n",
       "      <td>29.42</td>\n",
       "      <td>30.07</td>\n",
       "      <td>8.5</td>\n",
       "      <td>29</td>\n",
       "      <td>9.0</td>\n",
       "    </tr>\n",
       "    <tr>\n",
       "      <th>2940</th>\n",
       "      <td>1</td>\n",
       "      <td>2014-10-30</td>\n",
       "      <td>51</td>\n",
       "      <td>32</td>\n",
       "      <td>42</td>\n",
       "      <td>34</td>\n",
       "      <td>0.00</td>\n",
       "      <td>29.34</td>\n",
       "      <td>30.09</td>\n",
       "      <td>5.1</td>\n",
       "      <td>24</td>\n",
       "      <td>5.5</td>\n",
       "    </tr>\n",
       "    <tr>\n",
       "      <th>2941</th>\n",
       "      <td>2</td>\n",
       "      <td>2014-10-30</td>\n",
       "      <td>53</td>\n",
       "      <td>37</td>\n",
       "      <td>45</td>\n",
       "      <td>35</td>\n",
       "      <td>T</td>\n",
       "      <td>29.41</td>\n",
       "      <td>30.10</td>\n",
       "      <td>5.9</td>\n",
       "      <td>23</td>\n",
       "      <td>6.5</td>\n",
       "    </tr>\n",
       "    <tr>\n",
       "      <th>2942</th>\n",
       "      <td>1</td>\n",
       "      <td>2014-10-31</td>\n",
       "      <td>47</td>\n",
       "      <td>33</td>\n",
       "      <td>40</td>\n",
       "      <td>25</td>\n",
       "      <td>0.03</td>\n",
       "      <td>29.49</td>\n",
       "      <td>30.20</td>\n",
       "      <td>22.6</td>\n",
       "      <td>34</td>\n",
       "      <td>22.9</td>\n",
       "    </tr>\n",
       "    <tr>\n",
       "      <th>2943</th>\n",
       "      <td>2</td>\n",
       "      <td>2014-10-31</td>\n",
       "      <td>49</td>\n",
       "      <td>34</td>\n",
       "      <td>42</td>\n",
       "      <td>29</td>\n",
       "      <td>0.04</td>\n",
       "      <td>29.54</td>\n",
       "      <td>30.20</td>\n",
       "      <td>21.7</td>\n",
       "      <td>34</td>\n",
       "      <td>22.6</td>\n",
       "    </tr>\n",
       "  </tbody>\n",
       "</table>\n",
       "<p>2942 rows × 12 columns</p>\n",
       "</div>"
      ],
      "text/plain": [
       "      station       date  tmax  tmin tavg  dewpoint preciptotal stnpressure  \\\n",
       "0           1 2007-05-01    83    50   67        51        0.00       29.10   \n",
       "1           2 2007-05-01    84    52   68        51        0.00       29.18   \n",
       "2           1 2007-05-02    59    42   51        42        0.00       29.38   \n",
       "3           2 2007-05-02    60    43   52        42        0.00       29.44   \n",
       "4           1 2007-05-03    66    46   56        40        0.00       29.39   \n",
       "...       ...        ...   ...   ...  ...       ...         ...         ...   \n",
       "2939        2 2014-10-29    49    40   45        34        0.00       29.42   \n",
       "2940        1 2014-10-30    51    32   42        34        0.00       29.34   \n",
       "2941        2 2014-10-30    53    37   45        35           T       29.41   \n",
       "2942        1 2014-10-31    47    33   40        25        0.03       29.49   \n",
       "2943        2 2014-10-31    49    34   42        29        0.04       29.54   \n",
       "\n",
       "     sealevel  resultspeed  resultdir avgspeed  \n",
       "0       29.82          1.7         27      9.2  \n",
       "1       29.82          2.7         25      9.6  \n",
       "2       30.09         13.0          4     13.4  \n",
       "3       30.08         13.3          2     13.4  \n",
       "4       30.12         11.7          7     11.9  \n",
       "...       ...          ...        ...      ...  \n",
       "2939    30.07          8.5         29      9.0  \n",
       "2940    30.09          5.1         24      5.5  \n",
       "2941    30.10          5.9         23      6.5  \n",
       "2942    30.20         22.6         34     22.9  \n",
       "2943    30.20         21.7         34     22.6  \n",
       "\n",
       "[2942 rows x 12 columns]"
      ]
     },
     "execution_count": 50,
     "metadata": {},
     "output_type": "execute_result"
    }
   ],
   "source": [
    "#dropping rows with missing values in preciptotal\n",
    "weather = weather.drop(weather[(weather.preciptotal == 'M') | (weather.preciptotal == 'T')].index)\n",
    "\n",
    "#checking\n",
    "print(weather.shape)\n",
    "weather"
   ]
  },
  {
   "cell_type": "code",
   "execution_count": 51,
   "id": "93cbd7b4-ea1d-4cbb-8214-c99aa2286b8a",
   "metadata": {},
   "outputs": [
    {
     "data": {
      "text/plain": [
       "preciptotal    318\n",
       "station          0\n",
       "date             0\n",
       "tmax             0\n",
       "tmin             0\n",
       "tavg             0\n",
       "dewpoint         0\n",
       "stnpressure      0\n",
       "sealevel         0\n",
       "resultspeed      0\n",
       "resultdir        0\n",
       "avgspeed         0\n",
       "dtype: int64"
      ]
     },
     "execution_count": 51,
     "metadata": {},
     "output_type": "execute_result"
    }
   ],
   "source": [
    "#only 2 rows dropped but T values still present\n",
    "#checking for other possible T combination\n",
    "weather.isin(['  T']).sum().sort_values(ascending=False)"
   ]
  },
  {
   "cell_type": "code",
   "execution_count": 52,
   "id": "920ea474-0392-4655-ab40-5328763ce7a1",
   "metadata": {},
   "outputs": [],
   "source": [
    "# Change trace values for PrecipTotal to 0.01\n",
    "weather['preciptotal'] = weather['preciptotal'].map(lambda x: 0.01 if x == '  T' else x)"
   ]
  },
  {
   "cell_type": "code",
   "execution_count": 53,
   "id": "709df7cc-14c6-4c20-b099-ae2230892c32",
   "metadata": {},
   "outputs": [
    {
     "data": {
      "text/plain": [
       "station        0\n",
       "date           0\n",
       "tmax           0\n",
       "tmin           0\n",
       "tavg           0\n",
       "dewpoint       0\n",
       "preciptotal    0\n",
       "stnpressure    0\n",
       "sealevel       0\n",
       "resultspeed    0\n",
       "resultdir      0\n",
       "avgspeed       0\n",
       "dtype: int64"
      ]
     },
     "execution_count": 53,
     "metadata": {},
     "output_type": "execute_result"
    }
   ],
   "source": [
    "#checking\n",
    "weather.isin(['M', '-', 'T', '', ' ', '  T']).sum().sort_values(ascending=False)"
   ]
  },
  {
   "cell_type": "markdown",
   "id": "1b27d1be-d106-4fc8-a75e-64b014dfe3f0",
   "metadata": {},
   "source": [
    "Upon dropping the stated features and imputing the values accordingly, we ran into a puzzling situation when attempting to drop rows containing the missing values in `'preciptotal'` as even after dropping them, T values are still present. After checking for possible combination of strings with T, it was found that the values imputed were actually `'  T'` and it accounted for 318 of the data. Since precipitation is a valuable feature to hold, we decided to impute the trace amount with 0.01 as it would signify a quantity that is very low and close to zero but still shows some amount of data collected that may be meaningful in our project."
   ]
  },
  {
   "cell_type": "code",
   "execution_count": 54,
   "id": "27ab0ea9-34f5-4dcc-82c8-4e7853b21759",
   "metadata": {},
   "outputs": [],
   "source": [
    "# final check to change all columns to the appropriate data type\n",
    "weather['tavg'] = weather['tavg'].astype(int)\n",
    "weather['preciptotal'] = weather['preciptotal'].astype(float)\n",
    "weather['stnpressure'] = weather['stnpressure'].astype(float)\n",
    "weather['sealevel'] = weather['sealevel'].astype(float)\n",
    "weather['avgspeed'] = weather['avgspeed'].astype(float)"
   ]
  },
  {
   "cell_type": "code",
   "execution_count": 55,
   "id": "342330d9-9537-4117-84a1-23cac1843d64",
   "metadata": {},
   "outputs": [
    {
     "name": "stdout",
     "output_type": "stream",
     "text": [
      "<class 'pandas.core.frame.DataFrame'>\n",
      "Int64Index: 2942 entries, 0 to 2943\n",
      "Data columns (total 12 columns):\n",
      " #   Column       Non-Null Count  Dtype         \n",
      "---  ------       --------------  -----         \n",
      " 0   station      2942 non-null   int64         \n",
      " 1   date         2942 non-null   datetime64[ns]\n",
      " 2   tmax         2942 non-null   int64         \n",
      " 3   tmin         2942 non-null   int64         \n",
      " 4   tavg         2942 non-null   int32         \n",
      " 5   dewpoint     2942 non-null   int64         \n",
      " 6   preciptotal  2942 non-null   float64       \n",
      " 7   stnpressure  2942 non-null   float64       \n",
      " 8   sealevel     2942 non-null   float64       \n",
      " 9   resultspeed  2942 non-null   float64       \n",
      " 10  resultdir    2942 non-null   int64         \n",
      " 11  avgspeed     2942 non-null   float64       \n",
      "dtypes: datetime64[ns](1), float64(5), int32(1), int64(5)\n",
      "memory usage: 287.3 KB\n"
     ]
    }
   ],
   "source": [
    "weather.info()"
   ]
  },
  {
   "attachments": {
    "36c0695e-a06d-4374-96bc-6865415d2031.jpg": {
     "image/jpeg": "[encoded data removed]"
    }
   },
   "cell_type": "markdown",
   "id": "dbf8e6ff-c294-4d7a-aeac-9fde043e1dbc",
   "metadata": {},
   "source": [
    "**Mosquiotes tend to grow when the weather is humid, therefore we created an additional weather feature call 'relativehumidity'.**\n",
    "\n",
    "![humidity.jpg](attachment:36c0695e-a06d-4374-96bc-6865415d2031.jpg)\n",
    "\n",
    "Source: https://www.calcunation.com/calculator/humidity-calculator.php\n",
    "\n",
    "Note: (X°F − 32) × 5/9 = Y°C"
   ]
  },
  {
   "cell_type": "code",
   "execution_count": 56,
   "id": "7fa4dbe3-d59b-4cb1-b382-5559e0771334",
   "metadata": {},
   "outputs": [],
   "source": [
    "weather['relativehumidity'] = 100 * (np.exp((17.67 * ((weather['dewpoint'] - 32) * (5/9))) / \n",
    "                                           (243.5 + ((weather['dewpoint'] - 32) * (5/9)))) \n",
    "                                    /\n",
    "                                    np.exp((17.67 * ((weather['tavg'] - 32) * (5/9))) /\n",
    "                                           (243.5 + ((weather['tavg'] - 32) * (5/9))))\n",
    "                                    )"
   ]
  },
  {
   "cell_type": "code",
   "execution_count": 57,
   "id": "8d63fbf6-454f-4528-8bc4-baf5902ee42c",
   "metadata": {},
   "outputs": [
    {
     "data": {
      "text/html": [
       "<div>\n",
       "<style scoped>\n",
       "    .dataframe tbody tr th:only-of-type {\n",
       "        vertical-align: middle;\n",
       "    }\n",
       "\n",
       "    .dataframe tbody tr th {\n",
       "        vertical-align: top;\n",
       "    }\n",
       "\n",
       "    .dataframe thead th {\n",
       "        text-align: right;\n",
       "    }\n",
       "</style>\n",
       "<table border=\"1\" class=\"dataframe\">\n",
       "  <thead>\n",
       "    <tr style=\"text-align: right;\">\n",
       "      <th></th>\n",
       "      <th>station</th>\n",
       "      <th>date</th>\n",
       "      <th>tmax</th>\n",
       "      <th>tmin</th>\n",
       "      <th>tavg</th>\n",
       "      <th>dewpoint</th>\n",
       "      <th>preciptotal</th>\n",
       "      <th>stnpressure</th>\n",
       "      <th>sealevel</th>\n",
       "      <th>resultspeed</th>\n",
       "      <th>resultdir</th>\n",
       "      <th>avgspeed</th>\n",
       "      <th>relativehumidity</th>\n",
       "    </tr>\n",
       "  </thead>\n",
       "  <tbody>\n",
       "    <tr>\n",
       "      <th>0</th>\n",
       "      <td>1</td>\n",
       "      <td>2007-05-01</td>\n",
       "      <td>83</td>\n",
       "      <td>50</td>\n",
       "      <td>67</td>\n",
       "      <td>51</td>\n",
       "      <td>0.0</td>\n",
       "      <td>29.10</td>\n",
       "      <td>29.82</td>\n",
       "      <td>1.7</td>\n",
       "      <td>27</td>\n",
       "      <td>9.2</td>\n",
       "      <td>56.410238</td>\n",
       "    </tr>\n",
       "    <tr>\n",
       "      <th>1</th>\n",
       "      <td>2</td>\n",
       "      <td>2007-05-01</td>\n",
       "      <td>84</td>\n",
       "      <td>52</td>\n",
       "      <td>68</td>\n",
       "      <td>51</td>\n",
       "      <td>0.0</td>\n",
       "      <td>29.18</td>\n",
       "      <td>29.82</td>\n",
       "      <td>2.7</td>\n",
       "      <td>25</td>\n",
       "      <td>9.6</td>\n",
       "      <td>54.497276</td>\n",
       "    </tr>\n",
       "    <tr>\n",
       "      <th>2</th>\n",
       "      <td>1</td>\n",
       "      <td>2007-05-02</td>\n",
       "      <td>59</td>\n",
       "      <td>42</td>\n",
       "      <td>51</td>\n",
       "      <td>42</td>\n",
       "      <td>0.0</td>\n",
       "      <td>29.38</td>\n",
       "      <td>30.09</td>\n",
       "      <td>13.0</td>\n",
       "      <td>4</td>\n",
       "      <td>13.4</td>\n",
       "      <td>71.176939</td>\n",
       "    </tr>\n",
       "    <tr>\n",
       "      <th>3</th>\n",
       "      <td>2</td>\n",
       "      <td>2007-05-02</td>\n",
       "      <td>60</td>\n",
       "      <td>43</td>\n",
       "      <td>52</td>\n",
       "      <td>42</td>\n",
       "      <td>0.0</td>\n",
       "      <td>29.44</td>\n",
       "      <td>30.08</td>\n",
       "      <td>13.3</td>\n",
       "      <td>2</td>\n",
       "      <td>13.4</td>\n",
       "      <td>68.594699</td>\n",
       "    </tr>\n",
       "    <tr>\n",
       "      <th>4</th>\n",
       "      <td>1</td>\n",
       "      <td>2007-05-03</td>\n",
       "      <td>66</td>\n",
       "      <td>46</td>\n",
       "      <td>56</td>\n",
       "      <td>40</td>\n",
       "      <td>0.0</td>\n",
       "      <td>29.39</td>\n",
       "      <td>30.12</td>\n",
       "      <td>11.7</td>\n",
       "      <td>7</td>\n",
       "      <td>11.9</td>\n",
       "      <td>54.848860</td>\n",
       "    </tr>\n",
       "  </tbody>\n",
       "</table>\n",
       "</div>"
      ],
      "text/plain": [
       "   station       date  tmax  tmin  tavg  dewpoint  preciptotal  stnpressure  \\\n",
       "0        1 2007-05-01    83    50    67        51          0.0        29.10   \n",
       "1        2 2007-05-01    84    52    68        51          0.0        29.18   \n",
       "2        1 2007-05-02    59    42    51        42          0.0        29.38   \n",
       "3        2 2007-05-02    60    43    52        42          0.0        29.44   \n",
       "4        1 2007-05-03    66    46    56        40          0.0        29.39   \n",
       "\n",
       "   sealevel  resultspeed  resultdir  avgspeed  relativehumidity  \n",
       "0     29.82          1.7         27       9.2         56.410238  \n",
       "1     29.82          2.7         25       9.6         54.497276  \n",
       "2     30.09         13.0          4      13.4         71.176939  \n",
       "3     30.08         13.3          2      13.4         68.594699  \n",
       "4     30.12         11.7          7      11.9         54.848860  "
      ]
     },
     "execution_count": 57,
     "metadata": {},
     "output_type": "execute_result"
    }
   ],
   "source": [
    "weather.head()"
   ]
  },
  {
   "cell_type": "code",
   "execution_count": null,
   "id": "1131557f-8fe6-48c2-bc26-0aeaa9ec44f4",
   "metadata": {},
   "outputs": [],
   "source": []
  },
  {
   "cell_type": "markdown",
   "id": "d618f851-3857-47ce-8daf-a0bd0bc64ae0",
   "metadata": {},
   "source": [
    "# EDA"
   ]
  },
  {
   "cell_type": "markdown",
   "id": "d72ec075-9ee0-40ab-9af3-ee6fde61370a",
   "metadata": {},
   "source": [
    "#### Weather"
   ]
  },
  {
   "cell_type": "code",
   "execution_count": 58,
   "id": "1e127ea4-2d45-4eb8-8083-ae925a5035bc",
   "metadata": {},
   "outputs": [
    {
     "data": {
      "image/png": "[encoded data removed]",
      "text/plain": [
       "<Figure size 1440x720 with 16 Axes>"
      ]
     },
     "metadata": {
      "needs_background": "light"
     },
     "output_type": "display_data"
    }
   ],
   "source": [
    "#plot distribution of numerical variables\n",
    "weather.hist(figsize=(20,10));"
   ]
  },
  {
   "cell_type": "code",
   "execution_count": 59,
   "id": "9264e1a7-2a51-44fb-a744-17fdb8cfec47",
   "metadata": {},
   "outputs": [
    {
     "data": {
      "text/plain": [
       "<AxesSubplot:title={'center':'Relative Humidity'}, xlabel='station', ylabel='relativehumidity'>"
      ]
     },
     "execution_count": 59,
     "metadata": {},
     "output_type": "execute_result"
    },
    {
     "data": {
      "image/png": "[encoded data removed]",
      "text/plain": [
       "<Figure size 1080x1440 with 8 Axes>"
      ]
     },
     "metadata": {
      "needs_background": "light"
     },
     "output_type": "display_data"
    }
   ],
   "source": [
    "fig, axes= plt.subplots(2,4, figsize=(15,20))\n",
    "\n",
    "axes[0,0].set_title('Dew Point')\n",
    "sns.boxplot(x='station', y='dewpoint', data=weather, ax=axes[0,0])\n",
    "\n",
    "axes[0,1].set_title('Preciptotal')\n",
    "sns.boxplot(x='station', y='preciptotal', data=weather, ax=axes[0,1])\n",
    "\n",
    "axes[0,2].set_title('Stn Pressure')\n",
    "sns.boxplot(x='station', y='stnpressure', data=weather, ax=axes[0,2])\n",
    "\n",
    "axes[0,3].set_title('Sea Level')\n",
    "sns.boxplot(x='station', y='sealevel', data=weather, ax=axes[0,3])\n",
    "\n",
    "axes[1,0].set_title('Result Speed')\n",
    "sns.boxplot(x='station', y='resultspeed', data=weather, ax=axes[1,0])\n",
    "\n",
    "axes[1,1].set_title('Result Dir')\n",
    "sns.boxplot(x='station', y='resultdir', data=weather, ax=axes[1,1])\n",
    "\n",
    "axes[1,2].set_title('Avg Speed')\n",
    "sns.boxplot(x='station', y='avgspeed', data=weather, ax=axes[1,2])\n",
    "\n",
    "axes[1,3].set_title('Relative Humidity')\n",
    "sns.boxplot(x='station', y='relativehumidity', data=weather, ax=axes[1,3])"
   ]
  },
  {
   "cell_type": "markdown",
   "id": "f7eb5f39-eb9c-465c-a9a3-0dd193099eca",
   "metadata": {},
   "source": [
    "#### Spray"
   ]
  },
  {
   "cell_type": "code",
   "execution_count": 60,
   "id": "b1e4bdc3-7b09-42d7-856b-9eae9fd0866b",
   "metadata": {},
   "outputs": [
    {
     "data": {
      "text/html": [
       "<div>\n",
       "<style scoped>\n",
       "    .dataframe tbody tr th:only-of-type {\n",
       "        vertical-align: middle;\n",
       "    }\n",
       "\n",
       "    .dataframe tbody tr th {\n",
       "        vertical-align: top;\n",
       "    }\n",
       "\n",
       "    .dataframe thead th {\n",
       "        text-align: right;\n",
       "    }\n",
       "</style>\n",
       "<table border=\"1\" class=\"dataframe\">\n",
       "  <thead>\n",
       "    <tr style=\"text-align: right;\">\n",
       "      <th></th>\n",
       "      <th>date</th>\n",
       "      <th>latitude</th>\n",
       "      <th>longitude</th>\n",
       "    </tr>\n",
       "  </thead>\n",
       "  <tbody>\n",
       "    <tr>\n",
       "      <th>95</th>\n",
       "      <td>2011-09-07</td>\n",
       "      <td>41.981433</td>\n",
       "      <td>-87.787777</td>\n",
       "    </tr>\n",
       "    <tr>\n",
       "      <th>96</th>\n",
       "      <td>2011-09-07</td>\n",
       "      <td>41.980998</td>\n",
       "      <td>-87.787778</td>\n",
       "    </tr>\n",
       "    <tr>\n",
       "      <th>97</th>\n",
       "      <td>2011-09-07</td>\n",
       "      <td>41.980560</td>\n",
       "      <td>-87.787762</td>\n",
       "    </tr>\n",
       "    <tr>\n",
       "      <th>98</th>\n",
       "      <td>2011-09-07</td>\n",
       "      <td>41.980198</td>\n",
       "      <td>-87.787758</td>\n",
       "    </tr>\n",
       "    <tr>\n",
       "      <th>99</th>\n",
       "      <td>2011-09-07</td>\n",
       "      <td>41.979752</td>\n",
       "      <td>-87.787765</td>\n",
       "    </tr>\n",
       "  </tbody>\n",
       "</table>\n",
       "</div>"
      ],
      "text/plain": [
       "         date   latitude  longitude\n",
       "95 2011-09-07  41.981433 -87.787777\n",
       "96 2011-09-07  41.980998 -87.787778\n",
       "97 2011-09-07  41.980560 -87.787762\n",
       "98 2011-09-07  41.980198 -87.787758\n",
       "99 2011-09-07  41.979752 -87.787765"
      ]
     },
     "execution_count": 60,
     "metadata": {},
     "output_type": "execute_result"
    }
   ],
   "source": [
    "spray.head()"
   ]
  },
  {
   "cell_type": "code",
   "execution_count": 61,
   "id": "52801aff-dec2-416b-883e-121a4d9fb8c3",
   "metadata": {},
   "outputs": [
    {
     "data": {
      "text/plain": [
       "date\n",
       "2011-09-07    1573\n",
       "2013-07-17    2202\n",
       "2013-07-25    1607\n",
       "2013-08-08    1195\n",
       "2013-08-15    2668\n",
       "2013-08-16     141\n",
       "2013-08-22    1587\n",
       "2013-08-29    2302\n",
       "2013-09-05     870\n",
       "dtype: int64"
      ]
     },
     "execution_count": 61,
     "metadata": {},
     "output_type": "execute_result"
    }
   ],
   "source": [
    "spray.groupby(['date']).size()"
   ]
  },
  {
   "cell_type": "code",
   "execution_count": 62,
   "id": "37e210c8-3ffa-41bd-907a-ec9d83a1e279",
   "metadata": {},
   "outputs": [
    {
     "data": {
      "text/plain": [
       "<AxesSubplot:title={'center':'Number of Sprays over the period of years 2011 - 2013'}, ylabel='date'>"
      ]
     },
     "execution_count": 62,
     "metadata": {},
     "output_type": "execute_result"
    },
    {
     "data": {
      "image/png": "[encoded data removed]",
      "text/plain": [
       "<Figure size 1008x432 with 1 Axes>"
      ]
     },
     "metadata": {
      "needs_background": "light"
     },
     "output_type": "display_data"
    }
   ],
   "source": [
    "spray_numbers = spray.groupby(['date']).size()\n",
    "spray_numbers.plot(kind='barh', figsize=(14,6), title=\"Number of Sprays over the period of years 2011 - 2013\")"
   ]
  },
  {
   "cell_type": "code",
   "execution_count": null,
   "id": "2c6e6914-4eb5-4866-af52-b5bad9aa83f6",
   "metadata": {},
   "outputs": [],
   "source": []
  },
  {
   "cell_type": "markdown",
   "id": "38117da0-5f2a-4d96-9466-2aecc54154e4",
   "metadata": {},
   "source": [
    "#### Train"
   ]
  },
  {
   "cell_type": "code",
   "execution_count": 63,
   "id": "310d840c-bc51-4658-a6e0-a4dfbf3af961",
   "metadata": {},
   "outputs": [],
   "source": [
    "#lower case columns name for easier usage. both train and test set columns changed.\n",
    "train.columns = train.columns.str.lower()\n",
    "test.columns = test.columns.str.lower()"
   ]
  },
  {
   "cell_type": "code",
   "execution_count": null,
   "id": "242a7193-cf59-4c28-a78d-8e941a62543d",
   "metadata": {},
   "outputs": [],
   "source": []
  },
  {
   "cell_type": "markdown",
   "id": "94617739-10f7-4791-8fdb-61a404b158d6",
   "metadata": {},
   "source": [
    "# Time Series"
   ]
  },
  {
   "cell_type": "markdown",
   "id": "6b4e7900-5ae9-470d-aa1b-89a0d01f0bfa",
   "metadata": {},
   "source": [
    "#### Train"
   ]
  },
  {
   "cell_type": "code",
   "execution_count": 65,
   "id": "30c9276b-06e6-4f01-8a78-28beb152d61f",
   "metadata": {},
   "outputs": [
    {
     "name": "stdout",
     "output_type": "stream",
     "text": [
      "<class 'pandas.core.frame.DataFrame'>\n",
      "RangeIndex: 8475 entries, 0 to 8474\n",
      "Data columns (total 12 columns):\n",
      " #   Column                  Non-Null Count  Dtype  \n",
      "---  ------                  --------------  -----  \n",
      " 0   date                    8475 non-null   object \n",
      " 1   address                 8475 non-null   object \n",
      " 2   species                 8475 non-null   object \n",
      " 3   block                   8475 non-null   int32  \n",
      " 4   street                  8475 non-null   object \n",
      " 5   trap                    8475 non-null   object \n",
      " 6   addressnumberandstreet  8475 non-null   object \n",
      " 7   latitude                8475 non-null   float64\n",
      " 8   longitude               8475 non-null   float64\n",
      " 9   addressaccuracy         8475 non-null   int32  \n",
      " 10  nummosquitos            8475 non-null   int64  \n",
      " 11  wnvpresent              8475 non-null   int64  \n",
      "dtypes: float64(2), int32(2), int64(2), object(6)\n",
      "memory usage: 728.4+ KB\n"
     ]
    }
   ],
   "source": [
    "train.info()"
   ]
  },
  {
   "cell_type": "code",
   "execution_count": 67,
   "id": "e4651fdc-1cf2-4902-b11b-1ae05c3a2b1d",
   "metadata": {},
   "outputs": [],
   "source": [
    "train['date'] = pd.to_datetime(train['date'])\n",
    "# change date to datetimetype                               "
   ]
  },
  {
   "cell_type": "code",
   "execution_count": 68,
   "id": "9e646125-95f7-479d-80aa-e72bdd18c04c",
   "metadata": {},
   "outputs": [],
   "source": [
    "test['date'] = pd.to_datetime(test['date'])\n",
    "# change test to datetimetype"
   ]
  },
  {
   "cell_type": "code",
   "execution_count": 71,
   "id": "23de0067-aa3f-49bc-8194-26add0996204",
   "metadata": {},
   "outputs": [],
   "source": [
    "train_date = train.set_index('date')\n",
    "#setting date column as index"
   ]
  },
  {
   "cell_type": "code",
   "execution_count": 72,
   "id": "c1bb3442-ab97-4de4-a694-ab1e082d8d5d",
   "metadata": {},
   "outputs": [
    {
     "name": "stdout",
     "output_type": "stream",
     "text": [
      "(8475, 11)\n"
     ]
    },
    {
     "data": {
      "text/html": [
       "<div>\n",
       "<style scoped>\n",
       "    .dataframe tbody tr th:only-of-type {\n",
       "        vertical-align: middle;\n",
       "    }\n",
       "\n",
       "    .dataframe tbody tr th {\n",
       "        vertical-align: top;\n",
       "    }\n",
       "\n",
       "    .dataframe thead th {\n",
       "        text-align: right;\n",
       "    }\n",
       "</style>\n",
       "<table border=\"1\" class=\"dataframe\">\n",
       "  <thead>\n",
       "    <tr style=\"text-align: right;\">\n",
       "      <th></th>\n",
       "      <th>address</th>\n",
       "      <th>species</th>\n",
       "      <th>block</th>\n",
       "      <th>street</th>\n",
       "      <th>trap</th>\n",
       "      <th>addressnumberandstreet</th>\n",
       "      <th>latitude</th>\n",
       "      <th>longitude</th>\n",
       "      <th>addressaccuracy</th>\n",
       "      <th>nummosquitos</th>\n",
       "      <th>wnvpresent</th>\n",
       "    </tr>\n",
       "    <tr>\n",
       "      <th>date</th>\n",
       "      <th></th>\n",
       "      <th></th>\n",
       "      <th></th>\n",
       "      <th></th>\n",
       "      <th></th>\n",
       "      <th></th>\n",
       "      <th></th>\n",
       "      <th></th>\n",
       "      <th></th>\n",
       "      <th></th>\n",
       "      <th></th>\n",
       "    </tr>\n",
       "  </thead>\n",
       "  <tbody>\n",
       "    <tr>\n",
       "      <th>2007-05-29</th>\n",
       "      <td>1100 Roosevelt Road, Chicago, IL 60608, USA</td>\n",
       "      <td>CULEX PIPIENS/RESTUANS</td>\n",
       "      <td>11</td>\n",
       "      <td>W ROOSEVELT</td>\n",
       "      <td>T048</td>\n",
       "      <td>1100  W ROOSEVELT, Chicago, IL</td>\n",
       "      <td>41.867108</td>\n",
       "      <td>-87.654224</td>\n",
       "      <td>8</td>\n",
       "      <td>1</td>\n",
       "      <td>0</td>\n",
       "    </tr>\n",
       "    <tr>\n",
       "      <th>2007-05-29</th>\n",
       "      <td>1100 Roosevelt Road, Chicago, IL 60608, USA</td>\n",
       "      <td>CULEX RESTUANS</td>\n",
       "      <td>11</td>\n",
       "      <td>W ROOSEVELT</td>\n",
       "      <td>T048</td>\n",
       "      <td>1100  W ROOSEVELT, Chicago, IL</td>\n",
       "      <td>41.867108</td>\n",
       "      <td>-87.654224</td>\n",
       "      <td>8</td>\n",
       "      <td>2</td>\n",
       "      <td>0</td>\n",
       "    </tr>\n",
       "    <tr>\n",
       "      <th>2007-05-29</th>\n",
       "      <td>1100 South Peoria Street, Chicago, IL 60608, USA</td>\n",
       "      <td>CULEX RESTUANS</td>\n",
       "      <td>11</td>\n",
       "      <td>S PEORIA ST</td>\n",
       "      <td>T091</td>\n",
       "      <td>1100  S PEORIA ST, Chicago, IL</td>\n",
       "      <td>41.862292</td>\n",
       "      <td>-87.648860</td>\n",
       "      <td>8</td>\n",
       "      <td>1</td>\n",
       "      <td>0</td>\n",
       "    </tr>\n",
       "    <tr>\n",
       "      <th>2007-05-29</th>\n",
       "      <td>1100 West Chicago Avenue, Chicago, IL 60642, USA</td>\n",
       "      <td>CULEX RESTUANS</td>\n",
       "      <td>11</td>\n",
       "      <td>W CHICAGO</td>\n",
       "      <td>T049</td>\n",
       "      <td>1100  W CHICAGO, Chicago, IL</td>\n",
       "      <td>41.896282</td>\n",
       "      <td>-87.655232</td>\n",
       "      <td>8</td>\n",
       "      <td>1</td>\n",
       "      <td>0</td>\n",
       "    </tr>\n",
       "    <tr>\n",
       "      <th>2007-05-29</th>\n",
       "      <td>1500 North Long Avenue, Chicago, IL 60651, USA</td>\n",
       "      <td>CULEX RESTUANS</td>\n",
       "      <td>15</td>\n",
       "      <td>N LONG AVE</td>\n",
       "      <td>T153</td>\n",
       "      <td>1500  N LONG AVE, Chicago, IL</td>\n",
       "      <td>41.907645</td>\n",
       "      <td>-87.760886</td>\n",
       "      <td>8</td>\n",
       "      <td>1</td>\n",
       "      <td>0</td>\n",
       "    </tr>\n",
       "  </tbody>\n",
       "</table>\n",
       "</div>"
      ],
      "text/plain": [
       "                                                     address  \\\n",
       "date                                                           \n",
       "2007-05-29       1100 Roosevelt Road, Chicago, IL 60608, USA   \n",
       "2007-05-29       1100 Roosevelt Road, Chicago, IL 60608, USA   \n",
       "2007-05-29  1100 South Peoria Street, Chicago, IL 60608, USA   \n",
       "2007-05-29  1100 West Chicago Avenue, Chicago, IL 60642, USA   \n",
       "2007-05-29    1500 North Long Avenue, Chicago, IL 60651, USA   \n",
       "\n",
       "                           species  block        street  trap  \\\n",
       "date                                                            \n",
       "2007-05-29  CULEX PIPIENS/RESTUANS     11   W ROOSEVELT  T048   \n",
       "2007-05-29          CULEX RESTUANS     11   W ROOSEVELT  T048   \n",
       "2007-05-29          CULEX RESTUANS     11   S PEORIA ST  T091   \n",
       "2007-05-29          CULEX RESTUANS     11     W CHICAGO  T049   \n",
       "2007-05-29          CULEX RESTUANS     15    N LONG AVE  T153   \n",
       "\n",
       "                    addressnumberandstreet   latitude  longitude  \\\n",
       "date                                                               \n",
       "2007-05-29  1100  W ROOSEVELT, Chicago, IL  41.867108 -87.654224   \n",
       "2007-05-29  1100  W ROOSEVELT, Chicago, IL  41.867108 -87.654224   \n",
       "2007-05-29  1100  S PEORIA ST, Chicago, IL  41.862292 -87.648860   \n",
       "2007-05-29    1100  W CHICAGO, Chicago, IL  41.896282 -87.655232   \n",
       "2007-05-29   1500  N LONG AVE, Chicago, IL  41.907645 -87.760886   \n",
       "\n",
       "            addressaccuracy  nummosquitos  wnvpresent  \n",
       "date                                                   \n",
       "2007-05-29                8             1           0  \n",
       "2007-05-29                8             2           0  \n",
       "2007-05-29                8             1           0  \n",
       "2007-05-29                8             1           0  \n",
       "2007-05-29                8             1           0  "
      ]
     },
     "execution_count": 72,
     "metadata": {},
     "output_type": "execute_result"
    }
   ],
   "source": [
    "print(train_date.shape) #look at shape first\n",
    "train_date.head() #then ask for head"
   ]
  },
  {
   "cell_type": "code",
   "execution_count": 73,
   "id": "cec2d5f5-d0b6-429a-9180-9bfd143768f6",
   "metadata": {},
   "outputs": [],
   "source": [
    "train_date = train_date.sort_index()"
   ]
  },
  {
   "cell_type": "code",
   "execution_count": 74,
   "id": "289d43cd-9413-41b5-899d-da7436e5912f",
   "metadata": {},
   "outputs": [
    {
     "name": "stdout",
     "output_type": "stream",
     "text": [
      "(8475, 11)\n"
     ]
    },
    {
     "data": {
      "text/html": [
       "<div>\n",
       "<style scoped>\n",
       "    .dataframe tbody tr th:only-of-type {\n",
       "        vertical-align: middle;\n",
       "    }\n",
       "\n",
       "    .dataframe tbody tr th {\n",
       "        vertical-align: top;\n",
       "    }\n",
       "\n",
       "    .dataframe thead th {\n",
       "        text-align: right;\n",
       "    }\n",
       "</style>\n",
       "<table border=\"1\" class=\"dataframe\">\n",
       "  <thead>\n",
       "    <tr style=\"text-align: right;\">\n",
       "      <th></th>\n",
       "      <th>address</th>\n",
       "      <th>species</th>\n",
       "      <th>block</th>\n",
       "      <th>street</th>\n",
       "      <th>trap</th>\n",
       "      <th>addressnumberandstreet</th>\n",
       "      <th>latitude</th>\n",
       "      <th>longitude</th>\n",
       "      <th>addressaccuracy</th>\n",
       "      <th>nummosquitos</th>\n",
       "      <th>wnvpresent</th>\n",
       "    </tr>\n",
       "    <tr>\n",
       "      <th>date</th>\n",
       "      <th></th>\n",
       "      <th></th>\n",
       "      <th></th>\n",
       "      <th></th>\n",
       "      <th></th>\n",
       "      <th></th>\n",
       "      <th></th>\n",
       "      <th></th>\n",
       "      <th></th>\n",
       "      <th></th>\n",
       "      <th></th>\n",
       "    </tr>\n",
       "  </thead>\n",
       "  <tbody>\n",
       "    <tr>\n",
       "      <th>2007-05-29</th>\n",
       "      <td>1100 Roosevelt Road, Chicago, IL 60608, USA</td>\n",
       "      <td>CULEX PIPIENS/RESTUANS</td>\n",
       "      <td>11</td>\n",
       "      <td>W ROOSEVELT</td>\n",
       "      <td>T048</td>\n",
       "      <td>1100  W ROOSEVELT, Chicago, IL</td>\n",
       "      <td>41.867108</td>\n",
       "      <td>-87.654224</td>\n",
       "      <td>8</td>\n",
       "      <td>1</td>\n",
       "      <td>0</td>\n",
       "    </tr>\n",
       "    <tr>\n",
       "      <th>2007-05-29</th>\n",
       "      <td>1100 Roosevelt Road, Chicago, IL 60608, USA</td>\n",
       "      <td>CULEX RESTUANS</td>\n",
       "      <td>11</td>\n",
       "      <td>W ROOSEVELT</td>\n",
       "      <td>T048</td>\n",
       "      <td>1100  W ROOSEVELT, Chicago, IL</td>\n",
       "      <td>41.867108</td>\n",
       "      <td>-87.654224</td>\n",
       "      <td>8</td>\n",
       "      <td>2</td>\n",
       "      <td>0</td>\n",
       "    </tr>\n",
       "    <tr>\n",
       "      <th>2007-05-29</th>\n",
       "      <td>1100 South Peoria Street, Chicago, IL 60608, USA</td>\n",
       "      <td>CULEX RESTUANS</td>\n",
       "      <td>11</td>\n",
       "      <td>S PEORIA ST</td>\n",
       "      <td>T091</td>\n",
       "      <td>1100  S PEORIA ST, Chicago, IL</td>\n",
       "      <td>41.862292</td>\n",
       "      <td>-87.648860</td>\n",
       "      <td>8</td>\n",
       "      <td>1</td>\n",
       "      <td>0</td>\n",
       "    </tr>\n",
       "    <tr>\n",
       "      <th>2007-05-29</th>\n",
       "      <td>1100 West Chicago Avenue, Chicago, IL 60642, USA</td>\n",
       "      <td>CULEX RESTUANS</td>\n",
       "      <td>11</td>\n",
       "      <td>W CHICAGO</td>\n",
       "      <td>T049</td>\n",
       "      <td>1100  W CHICAGO, Chicago, IL</td>\n",
       "      <td>41.896282</td>\n",
       "      <td>-87.655232</td>\n",
       "      <td>8</td>\n",
       "      <td>1</td>\n",
       "      <td>0</td>\n",
       "    </tr>\n",
       "    <tr>\n",
       "      <th>2007-05-29</th>\n",
       "      <td>1500 North Long Avenue, Chicago, IL 60651, USA</td>\n",
       "      <td>CULEX RESTUANS</td>\n",
       "      <td>15</td>\n",
       "      <td>N LONG AVE</td>\n",
       "      <td>T153</td>\n",
       "      <td>1500  N LONG AVE, Chicago, IL</td>\n",
       "      <td>41.907645</td>\n",
       "      <td>-87.760886</td>\n",
       "      <td>8</td>\n",
       "      <td>1</td>\n",
       "      <td>0</td>\n",
       "    </tr>\n",
       "  </tbody>\n",
       "</table>\n",
       "</div>"
      ],
      "text/plain": [
       "                                                     address  \\\n",
       "date                                                           \n",
       "2007-05-29       1100 Roosevelt Road, Chicago, IL 60608, USA   \n",
       "2007-05-29       1100 Roosevelt Road, Chicago, IL 60608, USA   \n",
       "2007-05-29  1100 South Peoria Street, Chicago, IL 60608, USA   \n",
       "2007-05-29  1100 West Chicago Avenue, Chicago, IL 60642, USA   \n",
       "2007-05-29    1500 North Long Avenue, Chicago, IL 60651, USA   \n",
       "\n",
       "                           species  block        street  trap  \\\n",
       "date                                                            \n",
       "2007-05-29  CULEX PIPIENS/RESTUANS     11   W ROOSEVELT  T048   \n",
       "2007-05-29          CULEX RESTUANS     11   W ROOSEVELT  T048   \n",
       "2007-05-29          CULEX RESTUANS     11   S PEORIA ST  T091   \n",
       "2007-05-29          CULEX RESTUANS     11     W CHICAGO  T049   \n",
       "2007-05-29          CULEX RESTUANS     15    N LONG AVE  T153   \n",
       "\n",
       "                    addressnumberandstreet   latitude  longitude  \\\n",
       "date                                                               \n",
       "2007-05-29  1100  W ROOSEVELT, Chicago, IL  41.867108 -87.654224   \n",
       "2007-05-29  1100  W ROOSEVELT, Chicago, IL  41.867108 -87.654224   \n",
       "2007-05-29  1100  S PEORIA ST, Chicago, IL  41.862292 -87.648860   \n",
       "2007-05-29    1100  W CHICAGO, Chicago, IL  41.896282 -87.655232   \n",
       "2007-05-29   1500  N LONG AVE, Chicago, IL  41.907645 -87.760886   \n",
       "\n",
       "            addressaccuracy  nummosquitos  wnvpresent  \n",
       "date                                                   \n",
       "2007-05-29                8             1           0  \n",
       "2007-05-29                8             2           0  \n",
       "2007-05-29                8             1           0  \n",
       "2007-05-29                8             1           0  \n",
       "2007-05-29                8             1           0  "
      ]
     },
     "execution_count": 74,
     "metadata": {},
     "output_type": "execute_result"
    }
   ],
   "source": [
    "print(train_date.shape) \n",
    "train_date.head() "
   ]
  },
  {
   "cell_type": "code",
   "execution_count": 97,
   "id": "75ba4800-84c4-4d07-bd70-3d5e9a44a428",
   "metadata": {},
   "outputs": [
    {
     "data": {
      "text/html": [
       "<div>\n",
       "<style scoped>\n",
       "    .dataframe tbody tr th:only-of-type {\n",
       "        vertical-align: middle;\n",
       "    }\n",
       "\n",
       "    .dataframe tbody tr th {\n",
       "        vertical-align: top;\n",
       "    }\n",
       "\n",
       "    .dataframe thead th {\n",
       "        text-align: right;\n",
       "    }\n",
       "</style>\n",
       "<table border=\"1\" class=\"dataframe\">\n",
       "  <thead>\n",
       "    <tr style=\"text-align: right;\">\n",
       "      <th></th>\n",
       "      <th>nummosquitos</th>\n",
       "      <th>wnvpresent</th>\n",
       "    </tr>\n",
       "    <tr>\n",
       "      <th>date</th>\n",
       "      <th></th>\n",
       "      <th></th>\n",
       "    </tr>\n",
       "  </thead>\n",
       "  <tbody>\n",
       "    <tr>\n",
       "      <th>2007-12-31</th>\n",
       "      <td>58688</td>\n",
       "      <td>236</td>\n",
       "    </tr>\n",
       "    <tr>\n",
       "      <th>2008-12-31</th>\n",
       "      <td>0</td>\n",
       "      <td>0</td>\n",
       "    </tr>\n",
       "    <tr>\n",
       "      <th>2009-12-31</th>\n",
       "      <td>21108</td>\n",
       "      <td>19</td>\n",
       "    </tr>\n",
       "    <tr>\n",
       "      <th>2010-12-31</th>\n",
       "      <td>0</td>\n",
       "      <td>0</td>\n",
       "    </tr>\n",
       "    <tr>\n",
       "      <th>2011-12-31</th>\n",
       "      <td>18799</td>\n",
       "      <td>57</td>\n",
       "    </tr>\n",
       "    <tr>\n",
       "      <th>2012-12-31</th>\n",
       "      <td>0</td>\n",
       "      <td>0</td>\n",
       "    </tr>\n",
       "    <tr>\n",
       "      <th>2013-12-31</th>\n",
       "      <td>36444</td>\n",
       "      <td>239</td>\n",
       "    </tr>\n",
       "  </tbody>\n",
       "</table>\n",
       "</div>"
      ],
      "text/plain": [
       "            nummosquitos  wnvpresent\n",
       "date                                \n",
       "2007-12-31         58688         236\n",
       "2008-12-31             0           0\n",
       "2009-12-31         21108          19\n",
       "2010-12-31             0           0\n",
       "2011-12-31         18799          57\n",
       "2012-12-31             0           0\n",
       "2013-12-31         36444         239"
      ]
     },
     "execution_count": 97,
     "metadata": {},
     "output_type": "execute_result"
    }
   ],
   "source": [
    "train_date[['nummosquitos','wnvpresent']].resample('Y').sum()\n",
    "#look at year total mosquitoes and wnv present"
   ]
  },
  {
   "cell_type": "code",
   "execution_count": 99,
   "id": "6010bdcf-c444-4f17-b8c0-03d225bd25d1",
   "metadata": {},
   "outputs": [
    {
     "data": {
      "text/html": [
       "<div>\n",
       "<style scoped>\n",
       "    .dataframe tbody tr th:only-of-type {\n",
       "        vertical-align: middle;\n",
       "    }\n",
       "\n",
       "    .dataframe tbody tr th {\n",
       "        vertical-align: top;\n",
       "    }\n",
       "\n",
       "    .dataframe thead th {\n",
       "        text-align: right;\n",
       "    }\n",
       "</style>\n",
       "<table border=\"1\" class=\"dataframe\">\n",
       "  <thead>\n",
       "    <tr style=\"text-align: right;\">\n",
       "      <th></th>\n",
       "      <th>nummosquitos</th>\n",
       "      <th>wnvpresent</th>\n",
       "    </tr>\n",
       "    <tr>\n",
       "      <th>date</th>\n",
       "      <th></th>\n",
       "      <th></th>\n",
       "    </tr>\n",
       "  </thead>\n",
       "  <tbody>\n",
       "    <tr>\n",
       "      <th>2007-05-31</th>\n",
       "      <td>40</td>\n",
       "      <td>0</td>\n",
       "    </tr>\n",
       "    <tr>\n",
       "      <th>2007-06-30</th>\n",
       "      <td>428</td>\n",
       "      <td>0</td>\n",
       "    </tr>\n",
       "    <tr>\n",
       "      <th>2007-07-31</th>\n",
       "      <td>7199</td>\n",
       "      <td>6</td>\n",
       "    </tr>\n",
       "    <tr>\n",
       "      <th>2007-08-31</th>\n",
       "      <td>40015</td>\n",
       "      <td>200</td>\n",
       "    </tr>\n",
       "    <tr>\n",
       "      <th>2007-09-30</th>\n",
       "      <td>9300</td>\n",
       "      <td>28</td>\n",
       "    </tr>\n",
       "    <tr>\n",
       "      <th>2007-10-31</th>\n",
       "      <td>1706</td>\n",
       "      <td>2</td>\n",
       "    </tr>\n",
       "  </tbody>\n",
       "</table>\n",
       "</div>"
      ],
      "text/plain": [
       "            nummosquitos  wnvpresent\n",
       "date                                \n",
       "2007-05-31            40           0\n",
       "2007-06-30           428           0\n",
       "2007-07-31          7199           6\n",
       "2007-08-31         40015         200\n",
       "2007-09-30          9300          28\n",
       "2007-10-31          1706           2"
      ]
     },
     "execution_count": 99,
     "metadata": {},
     "output_type": "execute_result"
    }
   ],
   "source": [
    "train_date[['nummosquitos','wnvpresent']].loc['2007'].resample('M').sum()\n",
    "#look at year 2007 and at the monthly lvl of total mosquitoes and wnv present"
   ]
  },
  {
   "cell_type": "code",
   "execution_count": 100,
   "id": "90f5ea88-3763-4e45-b34f-23aee0d0a69f",
   "metadata": {
    "jupyter": {
     "source_hidden": true
    },
    "tags": []
   },
   "outputs": [
    {
     "data": {
      "text/html": [
       "<div>\n",
       "<style scoped>\n",
       "    .dataframe tbody tr th:only-of-type {\n",
       "        vertical-align: middle;\n",
       "    }\n",
       "\n",
       "    .dataframe tbody tr th {\n",
       "        vertical-align: top;\n",
       "    }\n",
       "\n",
       "    .dataframe thead th {\n",
       "        text-align: right;\n",
       "    }\n",
       "</style>\n",
       "<table border=\"1\" class=\"dataframe\">\n",
       "  <thead>\n",
       "    <tr style=\"text-align: right;\">\n",
       "      <th></th>\n",
       "      <th>nummosquitos</th>\n",
       "      <th>wnvpresent</th>\n",
       "    </tr>\n",
       "    <tr>\n",
       "      <th>date</th>\n",
       "      <th></th>\n",
       "      <th></th>\n",
       "    </tr>\n",
       "  </thead>\n",
       "  <tbody>\n",
       "    <tr>\n",
       "      <th>2009-05-31</th>\n",
       "      <td>190</td>\n",
       "      <td>0</td>\n",
       "    </tr>\n",
       "    <tr>\n",
       "      <th>2009-06-30</th>\n",
       "      <td>7390</td>\n",
       "      <td>0</td>\n",
       "    </tr>\n",
       "    <tr>\n",
       "      <th>2009-07-31</th>\n",
       "      <td>8833</td>\n",
       "      <td>5</td>\n",
       "    </tr>\n",
       "    <tr>\n",
       "      <th>2009-08-31</th>\n",
       "      <td>2346</td>\n",
       "      <td>9</td>\n",
       "    </tr>\n",
       "    <tr>\n",
       "      <th>2009-09-30</th>\n",
       "      <td>2137</td>\n",
       "      <td>5</td>\n",
       "    </tr>\n",
       "    <tr>\n",
       "      <th>2009-10-31</th>\n",
       "      <td>212</td>\n",
       "      <td>0</td>\n",
       "    </tr>\n",
       "  </tbody>\n",
       "</table>\n",
       "</div>"
      ],
      "text/plain": [
       "            nummosquitos  wnvpresent\n",
       "date                                \n",
       "2009-05-31           190           0\n",
       "2009-06-30          7390           0\n",
       "2009-07-31          8833           5\n",
       "2009-08-31          2346           9\n",
       "2009-09-30          2137           5\n",
       "2009-10-31           212           0"
      ]
     },
     "execution_count": 100,
     "metadata": {},
     "output_type": "execute_result"
    }
   ],
   "source": [
    "train_date[['nummosquitos','wnvpresent']].loc['2009'].resample('M').sum()\n",
    "#look at year 2009 and at the monthly lvl of total mosquitoes and wnv present"
   ]
  },
  {
   "cell_type": "code",
   "execution_count": 101,
   "id": "d37b8946-eb94-4670-9c50-02a5818d49bb",
   "metadata": {},
   "outputs": [
    {
     "data": {
      "text/html": [
       "<div>\n",
       "<style scoped>\n",
       "    .dataframe tbody tr th:only-of-type {\n",
       "        vertical-align: middle;\n",
       "    }\n",
       "\n",
       "    .dataframe tbody tr th {\n",
       "        vertical-align: top;\n",
       "    }\n",
       "\n",
       "    .dataframe thead th {\n",
       "        text-align: right;\n",
       "    }\n",
       "</style>\n",
       "<table border=\"1\" class=\"dataframe\">\n",
       "  <thead>\n",
       "    <tr style=\"text-align: right;\">\n",
       "      <th></th>\n",
       "      <th>nummosquitos</th>\n",
       "      <th>wnvpresent</th>\n",
       "    </tr>\n",
       "    <tr>\n",
       "      <th>date</th>\n",
       "      <th></th>\n",
       "      <th></th>\n",
       "    </tr>\n",
       "  </thead>\n",
       "  <tbody>\n",
       "    <tr>\n",
       "      <th>2011-06-30</th>\n",
       "      <td>4049</td>\n",
       "      <td>0</td>\n",
       "    </tr>\n",
       "    <tr>\n",
       "      <th>2011-07-31</th>\n",
       "      <td>8445</td>\n",
       "      <td>11</td>\n",
       "    </tr>\n",
       "    <tr>\n",
       "      <th>2011-08-31</th>\n",
       "      <td>2968</td>\n",
       "      <td>24</td>\n",
       "    </tr>\n",
       "    <tr>\n",
       "      <th>2011-09-30</th>\n",
       "      <td>3337</td>\n",
       "      <td>22</td>\n",
       "    </tr>\n",
       "  </tbody>\n",
       "</table>\n",
       "</div>"
      ],
      "text/plain": [
       "            nummosquitos  wnvpresent\n",
       "date                                \n",
       "2011-06-30          4049           0\n",
       "2011-07-31          8445          11\n",
       "2011-08-31          2968          24\n",
       "2011-09-30          3337          22"
      ]
     },
     "execution_count": 101,
     "metadata": {},
     "output_type": "execute_result"
    }
   ],
   "source": [
    "train_date[['nummosquitos','wnvpresent']].loc['2011'].resample('M').sum()\n",
    "#look at year 2011 and at the monthly lvl of total mosquitoes and wnv present"
   ]
  },
  {
   "cell_type": "code",
   "execution_count": 121,
   "id": "d8702b06-666f-4974-a6cb-5ff1d1467453",
   "metadata": {},
   "outputs": [
    {
     "data": {
      "text/html": [
       "<div>\n",
       "<style scoped>\n",
       "    .dataframe tbody tr th:only-of-type {\n",
       "        vertical-align: middle;\n",
       "    }\n",
       "\n",
       "    .dataframe tbody tr th {\n",
       "        vertical-align: top;\n",
       "    }\n",
       "\n",
       "    .dataframe thead th {\n",
       "        text-align: right;\n",
       "    }\n",
       "</style>\n",
       "<table border=\"1\" class=\"dataframe\">\n",
       "  <thead>\n",
       "    <tr style=\"text-align: right;\">\n",
       "      <th></th>\n",
       "      <th>nummosquitos</th>\n",
       "      <th>wnvpresent</th>\n",
       "    </tr>\n",
       "    <tr>\n",
       "      <th>date</th>\n",
       "      <th></th>\n",
       "      <th></th>\n",
       "    </tr>\n",
       "  </thead>\n",
       "  <tbody>\n",
       "    <tr>\n",
       "      <th>2013-06-30</th>\n",
       "      <td>4711</td>\n",
       "      <td>1</td>\n",
       "    </tr>\n",
       "    <tr>\n",
       "      <th>2013-07-31</th>\n",
       "      <td>12771</td>\n",
       "      <td>24</td>\n",
       "    </tr>\n",
       "    <tr>\n",
       "      <th>2013-08-31</th>\n",
       "      <td>12707</td>\n",
       "      <td>144</td>\n",
       "    </tr>\n",
       "    <tr>\n",
       "      <th>2013-09-30</th>\n",
       "      <td>6255</td>\n",
       "      <td>70</td>\n",
       "    </tr>\n",
       "  </tbody>\n",
       "</table>\n",
       "</div>"
      ],
      "text/plain": [
       "            nummosquitos  wnvpresent\n",
       "date                                \n",
       "2013-06-30          4711           1\n",
       "2013-07-31         12771          24\n",
       "2013-08-31         12707         144\n",
       "2013-09-30          6255          70"
      ]
     },
     "execution_count": 121,
     "metadata": {},
     "output_type": "execute_result"
    }
   ],
   "source": [
    "train_date[['nummosquitos','wnvpresent']].loc['2013'].resample('M').sum()\n",
    "#look at year 2013 and at the monthly lvl of total mosquitoes and wnv present"
   ]
  },
  {
   "cell_type": "markdown",
   "id": "df5de804-8167-468f-8ce5-a3a0ea5c6561",
   "metadata": {},
   "source": [
    "2007 and 2013 had a big outbeak in the month of August for WestNileVirus. We can see that the number starts to rise in June at a slow pace, gradually builds up the next month, but spikes in August.\n",
    "There are signs that measures were working in year 2009 and 2011, but probably due to some cut-backs, the number started to climb again in 2013. "
   ]
  },
  {
   "cell_type": "code",
   "execution_count": 104,
   "id": "1f04565b-1b74-4e42-84c2-bd1cc30b38d0",
   "metadata": {},
   "outputs": [
    {
     "data": {
      "text/plain": [
       "array(['CULEX PIPIENS/RESTUANS', 'CULEX RESTUANS', 'CULEX PIPIENS',\n",
       "       'CULEX SALINARIUS', 'CULEX TERRITANS', 'CULEX TARSALIS',\n",
       "       'CULEX ERRATICUS'], dtype=object)"
      ]
     },
     "execution_count": 104,
     "metadata": {},
     "output_type": "execute_result"
    }
   ],
   "source": [
    "train['species'].unique()"
   ]
  },
  {
   "cell_type": "code",
   "execution_count": 115,
   "id": "c49c2f20-f07d-4fe6-933c-6f1db0c999e3",
   "metadata": {},
   "outputs": [],
   "source": [
    "species_wnv = train[(train['wnvpresent'] > 0)][['species','wnvpresent']]"
   ]
  },
  {
   "cell_type": "code",
   "execution_count": 116,
   "id": "b8e01830-ec9c-450b-bf94-9ef21aac9126",
   "metadata": {},
   "outputs": [
    {
     "data": {
      "text/plain": [
       "array(['CULEX PIPIENS/RESTUANS', 'CULEX PIPIENS', 'CULEX RESTUANS'],\n",
       "      dtype=object)"
      ]
     },
     "execution_count": 116,
     "metadata": {},
     "output_type": "execute_result"
    }
   ],
   "source": [
    "species_wnv['species'].unique()"
   ]
  },
  {
   "cell_type": "code",
   "execution_count": 123,
   "id": "59308a67-e877-4cd7-8008-ff1dd501787c",
   "metadata": {},
   "outputs": [
    {
     "data": {
      "text/html": [
       "<div>\n",
       "<style scoped>\n",
       "    .dataframe tbody tr th:only-of-type {\n",
       "        vertical-align: middle;\n",
       "    }\n",
       "\n",
       "    .dataframe tbody tr th {\n",
       "        vertical-align: top;\n",
       "    }\n",
       "\n",
       "    .dataframe thead th {\n",
       "        text-align: right;\n",
       "    }\n",
       "</style>\n",
       "<table border=\"1\" class=\"dataframe\">\n",
       "  <thead>\n",
       "    <tr style=\"text-align: right;\">\n",
       "      <th></th>\n",
       "      <th>address</th>\n",
       "      <th>species</th>\n",
       "      <th>block</th>\n",
       "      <th>street</th>\n",
       "      <th>trap</th>\n",
       "      <th>addressnumberandstreet</th>\n",
       "      <th>latitude</th>\n",
       "      <th>longitude</th>\n",
       "      <th>addressaccuracy</th>\n",
       "      <th>nummosquitos</th>\n",
       "      <th>wnvpresent</th>\n",
       "    </tr>\n",
       "    <tr>\n",
       "      <th>date</th>\n",
       "      <th></th>\n",
       "      <th></th>\n",
       "      <th></th>\n",
       "      <th></th>\n",
       "      <th></th>\n",
       "      <th></th>\n",
       "      <th></th>\n",
       "      <th></th>\n",
       "      <th></th>\n",
       "      <th></th>\n",
       "      <th></th>\n",
       "    </tr>\n",
       "  </thead>\n",
       "  <tbody>\n",
       "    <tr>\n",
       "      <th>2007-07-18</th>\n",
       "      <td>3800 East 115th Street, Chicago, IL 60617, USA</td>\n",
       "      <td>CULEX PIPIENS/RESTUANS</td>\n",
       "      <td>38</td>\n",
       "      <td>E 115TH ST</td>\n",
       "      <td>T215</td>\n",
       "      <td>3800  E 115TH ST, Chicago, IL</td>\n",
       "      <td>41.686398</td>\n",
       "      <td>-87.531635</td>\n",
       "      <td>8</td>\n",
       "      <td>63</td>\n",
       "      <td>1</td>\n",
       "    </tr>\n",
       "    <tr>\n",
       "      <th>2007-07-25</th>\n",
       "      <td>South Doty Avenue, Chicago, IL, USA</td>\n",
       "      <td>CULEX PIPIENS</td>\n",
       "      <td>12</td>\n",
       "      <td>S DOTY AVE</td>\n",
       "      <td>T115</td>\n",
       "      <td>1200  S DOTY AVE, Chicago, IL</td>\n",
       "      <td>41.673408</td>\n",
       "      <td>-87.599862</td>\n",
       "      <td>5</td>\n",
       "      <td>2356</td>\n",
       "      <td>3</td>\n",
       "    </tr>\n",
       "    <tr>\n",
       "      <th>2007-07-25</th>\n",
       "      <td>South Doty Avenue, Chicago, IL, USA</td>\n",
       "      <td>CULEX PIPIENS/RESTUANS</td>\n",
       "      <td>12</td>\n",
       "      <td>S DOTY AVE</td>\n",
       "      <td>T115</td>\n",
       "      <td>1200  S DOTY AVE, Chicago, IL</td>\n",
       "      <td>41.673408</td>\n",
       "      <td>-87.599862</td>\n",
       "      <td>5</td>\n",
       "      <td>644</td>\n",
       "      <td>2</td>\n",
       "    </tr>\n",
       "    <tr>\n",
       "      <th>2007-08-01</th>\n",
       "      <td>2200 West 113th Street, Chicago, IL 60643, USA</td>\n",
       "      <td>CULEX PIPIENS/RESTUANS</td>\n",
       "      <td>22</td>\n",
       "      <td>W 113TH ST</td>\n",
       "      <td>T086</td>\n",
       "      <td>2200  W 113TH ST, Chicago, IL</td>\n",
       "      <td>41.688324</td>\n",
       "      <td>-87.676709</td>\n",
       "      <td>8</td>\n",
       "      <td>223</td>\n",
       "      <td>1</td>\n",
       "    </tr>\n",
       "    <tr>\n",
       "      <th>2007-08-01</th>\n",
       "      <td>2200 West 89th Street, Chicago, IL 60643, USA</td>\n",
       "      <td>CULEX PIPIENS</td>\n",
       "      <td>22</td>\n",
       "      <td>W 89TH ST</td>\n",
       "      <td>T096</td>\n",
       "      <td>2200  W 89TH ST, Chicago, IL</td>\n",
       "      <td>41.731922</td>\n",
       "      <td>-87.677512</td>\n",
       "      <td>8</td>\n",
       "      <td>17</td>\n",
       "      <td>1</td>\n",
       "    </tr>\n",
       "    <tr>\n",
       "      <th>...</th>\n",
       "      <td>...</td>\n",
       "      <td>...</td>\n",
       "      <td>...</td>\n",
       "      <td>...</td>\n",
       "      <td>...</td>\n",
       "      <td>...</td>\n",
       "      <td>...</td>\n",
       "      <td>...</td>\n",
       "      <td>...</td>\n",
       "      <td>...</td>\n",
       "      <td>...</td>\n",
       "    </tr>\n",
       "    <tr>\n",
       "      <th>2013-09-19</th>\n",
       "      <td>University of Illinois at Chicago, 1100 South ...</td>\n",
       "      <td>CULEX PIPIENS</td>\n",
       "      <td>11</td>\n",
       "      <td>S ASHLAND AVE</td>\n",
       "      <td>T090</td>\n",
       "      <td>1100  S ASHLAND AVE, Chicago, IL</td>\n",
       "      <td>41.868077</td>\n",
       "      <td>-87.666901</td>\n",
       "      <td>9</td>\n",
       "      <td>6</td>\n",
       "      <td>1</td>\n",
       "    </tr>\n",
       "    <tr>\n",
       "      <th>2013-09-26</th>\n",
       "      <td>4600 Milwaukee Avenue, Chicago, IL 60630, USA</td>\n",
       "      <td>CULEX PIPIENS</td>\n",
       "      <td>46</td>\n",
       "      <td>N MILWAUKEE AVE</td>\n",
       "      <td>T003</td>\n",
       "      <td>4600  N MILWAUKEE AVE, Chicago, IL</td>\n",
       "      <td>41.964242</td>\n",
       "      <td>-87.757639</td>\n",
       "      <td>8</td>\n",
       "      <td>3</td>\n",
       "      <td>1</td>\n",
       "    </tr>\n",
       "    <tr>\n",
       "      <th>2013-09-26</th>\n",
       "      <td>5100 West 72nd Street, Chicago, IL 60638, USA</td>\n",
       "      <td>CULEX PIPIENS/RESTUANS</td>\n",
       "      <td>51</td>\n",
       "      <td>W 72ND ST</td>\n",
       "      <td>T035</td>\n",
       "      <td>5100  W 72ND ST, Chicago, IL</td>\n",
       "      <td>41.763733</td>\n",
       "      <td>-87.742302</td>\n",
       "      <td>8</td>\n",
       "      <td>6</td>\n",
       "      <td>1</td>\n",
       "    </tr>\n",
       "    <tr>\n",
       "      <th>2013-09-26</th>\n",
       "      <td>6300 West 64th Street, Chicago, IL 60638, USA</td>\n",
       "      <td>CULEX PIPIENS/RESTUANS</td>\n",
       "      <td>63</td>\n",
       "      <td>W 64TH ST</td>\n",
       "      <td>T155</td>\n",
       "      <td>6300  W 64TH ST, Chicago, IL</td>\n",
       "      <td>41.776156</td>\n",
       "      <td>-87.778927</td>\n",
       "      <td>9</td>\n",
       "      <td>4</td>\n",
       "      <td>1</td>\n",
       "    </tr>\n",
       "    <tr>\n",
       "      <th>2013-09-26</th>\n",
       "      <td>ORD Terminal 5, O'Hare International Airport, ...</td>\n",
       "      <td>CULEX PIPIENS/RESTUANS</td>\n",
       "      <td>10</td>\n",
       "      <td>W OHARE AIRPORT</td>\n",
       "      <td>T900</td>\n",
       "      <td>1000  W OHARE AIRPORT, Chicago, IL</td>\n",
       "      <td>41.974689</td>\n",
       "      <td>-87.890615</td>\n",
       "      <td>9</td>\n",
       "      <td>43</td>\n",
       "      <td>1</td>\n",
       "    </tr>\n",
       "  </tbody>\n",
       "</table>\n",
       "<p>457 rows × 11 columns</p>\n",
       "</div>"
      ],
      "text/plain": [
       "                                                      address  \\\n",
       "date                                                            \n",
       "2007-07-18     3800 East 115th Street, Chicago, IL 60617, USA   \n",
       "2007-07-25                South Doty Avenue, Chicago, IL, USA   \n",
       "2007-07-25                South Doty Avenue, Chicago, IL, USA   \n",
       "2007-08-01     2200 West 113th Street, Chicago, IL 60643, USA   \n",
       "2007-08-01      2200 West 89th Street, Chicago, IL 60643, USA   \n",
       "...                                                       ...   \n",
       "2013-09-19  University of Illinois at Chicago, 1100 South ...   \n",
       "2013-09-26      4600 Milwaukee Avenue, Chicago, IL 60630, USA   \n",
       "2013-09-26      5100 West 72nd Street, Chicago, IL 60638, USA   \n",
       "2013-09-26      6300 West 64th Street, Chicago, IL 60638, USA   \n",
       "2013-09-26  ORD Terminal 5, O'Hare International Airport, ...   \n",
       "\n",
       "                           species  block            street  trap  \\\n",
       "date                                                                \n",
       "2007-07-18  CULEX PIPIENS/RESTUANS     38        E 115TH ST  T215   \n",
       "2007-07-25           CULEX PIPIENS     12        S DOTY AVE  T115   \n",
       "2007-07-25  CULEX PIPIENS/RESTUANS     12        S DOTY AVE  T115   \n",
       "2007-08-01  CULEX PIPIENS/RESTUANS     22        W 113TH ST  T086   \n",
       "2007-08-01           CULEX PIPIENS     22         W 89TH ST  T096   \n",
       "...                            ...    ...               ...   ...   \n",
       "2013-09-19           CULEX PIPIENS     11     S ASHLAND AVE  T090   \n",
       "2013-09-26           CULEX PIPIENS     46   N MILWAUKEE AVE  T003   \n",
       "2013-09-26  CULEX PIPIENS/RESTUANS     51         W 72ND ST  T035   \n",
       "2013-09-26  CULEX PIPIENS/RESTUANS     63         W 64TH ST  T155   \n",
       "2013-09-26  CULEX PIPIENS/RESTUANS     10   W OHARE AIRPORT  T900   \n",
       "\n",
       "                        addressnumberandstreet   latitude  longitude  \\\n",
       "date                                                                   \n",
       "2007-07-18       3800  E 115TH ST, Chicago, IL  41.686398 -87.531635   \n",
       "2007-07-25       1200  S DOTY AVE, Chicago, IL  41.673408 -87.599862   \n",
       "2007-07-25       1200  S DOTY AVE, Chicago, IL  41.673408 -87.599862   \n",
       "2007-08-01       2200  W 113TH ST, Chicago, IL  41.688324 -87.676709   \n",
       "2007-08-01        2200  W 89TH ST, Chicago, IL  41.731922 -87.677512   \n",
       "...                                        ...        ...        ...   \n",
       "2013-09-19    1100  S ASHLAND AVE, Chicago, IL  41.868077 -87.666901   \n",
       "2013-09-26  4600  N MILWAUKEE AVE, Chicago, IL  41.964242 -87.757639   \n",
       "2013-09-26        5100  W 72ND ST, Chicago, IL  41.763733 -87.742302   \n",
       "2013-09-26        6300  W 64TH ST, Chicago, IL  41.776156 -87.778927   \n",
       "2013-09-26  1000  W OHARE AIRPORT, Chicago, IL  41.974689 -87.890615   \n",
       "\n",
       "            addressaccuracy  nummosquitos  wnvpresent  \n",
       "date                                                   \n",
       "2007-07-18                8            63           1  \n",
       "2007-07-25                5          2356           3  \n",
       "2007-07-25                5           644           2  \n",
       "2007-08-01                8           223           1  \n",
       "2007-08-01                8            17           1  \n",
       "...                     ...           ...         ...  \n",
       "2013-09-19                9             6           1  \n",
       "2013-09-26                8             3           1  \n",
       "2013-09-26                8             6           1  \n",
       "2013-09-26                9             4           1  \n",
       "2013-09-26                9            43           1  \n",
       "\n",
       "[457 rows x 11 columns]"
      ]
     },
     "execution_count": 123,
     "metadata": {},
     "output_type": "execute_result"
    }
   ],
   "source": [
    "train_date[(train_date['wnvpresent'] > 0)]"
   ]
  },
  {
   "cell_type": "code",
   "execution_count": 126,
   "id": "9cba3e0a-b93c-4415-86d2-a8619708da47",
   "metadata": {},
   "outputs": [],
   "source": [
    "train_date_wnv = train_date['wnvpresent']"
   ]
  },
  {
   "cell_type": "code",
   "execution_count": 144,
   "id": "56844d70-620f-4ec7-bd7a-de2b6948969b",
   "metadata": {},
   "outputs": [
    {
     "data": {
      "text/plain": [
       "<matplotlib.legend.Legend at 0x11e9c3bc220>"
      ]
     },
     "execution_count": 144,
     "metadata": {},
     "output_type": "execute_result"
    },
    {
     "data": {
      "image/png": "[encoded data removed]",
      "text/plain": [
       "<Figure size 1080x864 with 4 Axes>"
      ]
     },
     "metadata": {
      "needs_background": "light"
     },
     "output_type": "display_data"
    }
   ],
   "source": [
    "fig,axes = plt.subplots(nrows=4, figsize=(15,12))\n",
    "axes[0].plot(train_date_wnv.loc['2007'], label = '2007')\n",
    "axes[0].legend()\n",
    "\n",
    "axes[1].plot(train_date_wnv.loc['2009'], label = '2009')\n",
    "axes[1].legend()\n",
    "\n",
    "axes[2].plot(train_date_wnv.loc['2011'], label = '2011')\n",
    "axes[2].legend()\n",
    "\n",
    "axes[3].plot(train_date_wnv.loc['2013'], label = '2013')\n",
    "axes[3].legend()"
   ]
  },
  {
   "cell_type": "code",
   "execution_count": 139,
   "id": "8ead38d4-e4ee-45e7-85c1-98f2db3ab24c",
   "metadata": {},
   "outputs": [
    {
     "data": {
      "text/plain": [
       "<matplotlib.legend.Legend at 0x11ea7443100>"
      ]
     },
     "execution_count": 139,
     "metadata": {},
     "output_type": "execute_result"
    },
    {
     "data": {
      "image/png": "[encoded data removed]",
      "text/plain": [
       "<Figure size 1080x864 with 4 Axes>"
      ]
     },
     "metadata": {
      "needs_background": "light"
     },
     "output_type": "display_data"
    }
   ],
   "source": [
    "fig,axes = plt.subplots(nrows=4, figsize=(15,12))\n",
    "axes[0].plot(train_date_wnv.loc['2007'].diff(), label = '2007')\n",
    "axes[0].legend()\n",
    "\n",
    "axes[1].plot(train_date_wnv.loc['2009'].diff(), label = '2009')\n",
    "axes[1].legend()\n",
    "\n",
    "axes[2].plot(train_date_wnv.loc['2011'].diff(), label = '2011')\n",
    "axes[2].legend()\n",
    "\n",
    "axes[3].plot(train_date_wnv.loc['2013'].diff(), label = '2013')\n",
    "axes[3].legend()"
   ]
  },
  {
   "cell_type": "code",
   "execution_count": 140,
   "id": "974b1044-afb0-4461-9cb0-ba196ac4966b",
   "metadata": {},
   "outputs": [
    {
     "data": {
      "text/plain": [
       "<matplotlib.legend.Legend at 0x11ea7624760>"
      ]
     },
     "execution_count": 140,
     "metadata": {},
     "output_type": "execute_result"
    },
    {
     "data": {
      "image/png": "[encoded data removed]",
      "text/plain": [
       "<Figure size 1080x864 with 4 Axes>"
      ]
     },
     "metadata": {
      "needs_background": "light"
     },
     "output_type": "display_data"
    }
   ],
   "source": [
    "fig,axes = plt.subplots(nrows=4, figsize=(15,12))\n",
    "axes[0].plot(train_date_wnv.loc['2007'].pct_change(), label = '2007')\n",
    "axes[0].legend()\n",
    "\n",
    "axes[1].plot(train_date_wnv.loc['2009'].pct_change(), label = '2009')\n",
    "axes[1].legend()\n",
    "\n",
    "axes[2].plot(train_date_wnv.loc['2011'].pct_change(), label = '2011')\n",
    "axes[2].legend()\n",
    "\n",
    "axes[3].plot(train_date_wnv.loc['2013'].pct_change(), label = '2013')\n",
    "axes[3].legend()"
   ]
  },
  {
   "cell_type": "code",
   "execution_count": 141,
   "id": "7088fef8-784a-4791-841a-3a48fb95e174",
   "metadata": {},
   "outputs": [],
   "source": [
    "train_date_mos = train_date['nummosquitos']"
   ]
  },
  {
   "cell_type": "code",
   "execution_count": 2,
   "id": "90c6cc13-39ab-4666-a420-c791c318bd53",
   "metadata": {},
   "outputs": [
    {
     "name": "stdout",
     "output_type": "stream",
     "text": [
      "test\n"
     ]
    }
   ],
   "source": [
    "print(\"test\")"
   ]
  },
  {
   "cell_type": "code",
   "execution_count": 145,
   "id": "faa42279-699a-4c36-88cd-21f4b2a2b7d9",
   "metadata": {},
   "outputs": [
    {
     "data": {
      "text/plain": [
       "<matplotlib.legend.Legend at 0x11ea67485e0>"
      ]
     },
     "execution_count": 145,
     "metadata": {},
     "output_type": "execute_result"
    },
    {
     "data": {
      "image/png": "[encoded data removed]",
      "text/plain": [
       "<Figure size 1080x864 with 4 Axes>"
      ]
     },
     "metadata": {
      "needs_background": "light"
     },
     "output_type": "display_data"
    }
   ],
   "source": [
    "fig,axes = plt.subplots(nrows=4, figsize=(15,12))\n",
    "axes[0].plot(train_date_mos.loc['2007'], label = '2007')\n",
    "axes[0].legend()\n",
    "\n",
    "axes[1].plot(train_date_mos.loc['2009'], label = '2009')\n",
    "axes[1].legend()\n",
    "\n",
    "axes[2].plot(train_date_mos.loc['2011'], label = '2011')\n",
    "axes[2].legend()\n",
    "\n",
    "axes[3].plot(train_date_mos.loc['2013'], label = '2013')\n",
    "axes[3].legend()"
   ]
  },
  {
   "cell_type": "code",
   "execution_count": 142,
   "id": "78313b23-a96f-44f4-b393-150cdea75214",
   "metadata": {},
   "outputs": [
    {
     "data": {
      "text/plain": [
       "<matplotlib.legend.Legend at 0x11ea7d9f760>"
      ]
     },
     "execution_count": 142,
     "metadata": {},
     "output_type": "execute_result"
    },
    {
     "data": {
      "image/png": "[encoded data removed]",
      "text/plain": [
       "<Figure size 1080x864 with 4 Axes>"
      ]
     },
     "metadata": {
      "needs_background": "light"
     },
     "output_type": "display_data"
    }
   ],
   "source": [
    "fig,axes = plt.subplots(nrows=4, figsize=(15,12))\n",
    "axes[0].plot(train_date_mos.loc['2007'].diff(), label = '2007')\n",
    "axes[0].legend()\n",
    "\n",
    "axes[1].plot(train_date_mos.loc['2009'].diff(), label = '2009')\n",
    "axes[1].legend()\n",
    "\n",
    "axes[2].plot(train_date_mos.loc['2011'].diff(), label = '2011')\n",
    "axes[2].legend()\n",
    "\n",
    "axes[3].plot(train_date_mos.loc['2013'].diff(), label = '2013')\n",
    "axes[3].legend()"
   ]
  },
  {
   "cell_type": "code",
   "execution_count": 143,
   "id": "370fbe65-bcb5-4771-b109-bd3a2320e7c3",
   "metadata": {},
   "outputs": [
    {
     "data": {
      "text/plain": [
       "<matplotlib.legend.Legend at 0x11ea739c550>"
      ]
     },
     "execution_count": 143,
     "metadata": {},
     "output_type": "execute_result"
    },
    {
     "data": {
      "image/png": "[encoded data removed]",
      "text/plain": [
       "<Figure size 1080x864 with 4 Axes>"
      ]
     },
     "metadata": {
      "needs_background": "light"
     },
     "output_type": "display_data"
    }
   ],
   "source": [
    "fig,axes = plt.subplots(nrows=4, figsize=(15,12))\n",
    "axes[0].plot(train_date_mos.loc['2007'].pct_change(), label = '2007')\n",
    "axes[0].legend()\n",
    "\n",
    "axes[1].plot(train_date_mos.loc['2009'].pct_change(), label = '2009')\n",
    "axes[1].legend()\n",
    "\n",
    "axes[2].plot(train_date_mos.loc['2011'].pct_change(), label = '2011')\n",
    "axes[2].legend()\n",
    "\n",
    "axes[3].plot(train_date_mos.loc['2013'].pct_change(), label = '2013')\n",
    "axes[3].legend()"
   ]
  },
  {
   "cell_type": "code",
   "execution_count": null,
   "id": "1b910be3-8a7c-4150-9dee-73b7edd5266c",
   "metadata": {},
   "outputs": [],
   "source": []
  },
  {
   "cell_type": "code",
   "execution_count": null,
   "id": "f4afbbc0-ff2a-4ab5-9160-6569322a3ecb",
   "metadata": {},
   "outputs": [],
   "source": []
  },
  {
   "cell_type": "code",
   "execution_count": null,
   "id": "a5c8a38c-e111-4214-b145-79736579881a",
   "metadata": {},
   "outputs": [],
   "source": []
  },
  {
   "cell_type": "code",
   "execution_count": null,
   "id": "89b5b52c-46cc-4b98-a74b-5894881da7bb",
   "metadata": {},
   "outputs": [],
   "source": []
  },
  {
   "cell_type": "code",
   "execution_count": null,
   "id": "7486a525-4aae-4233-9419-1792630ed948",
   "metadata": {},
   "outputs": [],
   "source": []
  },
  {
   "cell_type": "code",
   "execution_count": null,
   "id": "c63adbb6-21e4-4b7c-bad4-df0db71dc395",
   "metadata": {},
   "outputs": [],
   "source": []
  },
  {
   "cell_type": "code",
   "execution_count": null,
   "id": "cf2341b9-eb93-4e88-8928-8adc6a9fcf15",
   "metadata": {},
   "outputs": [],
   "source": []
  },
  {
   "cell_type": "code",
   "execution_count": null,
   "id": "672c6ad8-cbca-4e10-8b87-67671aa619c2",
   "metadata": {},
   "outputs": [],
   "source": []
  },
  {
   "cell_type": "markdown",
   "id": "a43c7ba2-f8f8-4cc2-afd3-843db0293027",
   "metadata": {},
   "source": [
    "# Modelling and Model Evaluation"
   ]
  },
  {
   "cell_type": "markdown",
   "id": "0dcb36d7-ac74-466c-a526-a2334c4fce21",
   "metadata": {},
   "source": [
    "# Recommendation and Conclusion"
   ]
  }
 ],
 "metadata": {
  "kernelspec": {
   "display_name": "Python 3 (ipykernel)",
   "language": "python",
   "name": "python3"
  },
  "language_info": {
   "codemirror_mode": {
    "name": "ipython",
    "version": 3
   },
   "file_extension": ".py",
   "mimetype": "text/x-python",
   "name": "python",
   "nbconvert_exporter": "python",
   "pygments_lexer": "ipython3",
   "version": "3.8.13"
  }
 },
 "nbformat": 4,
 "nbformat_minor": 5
}
